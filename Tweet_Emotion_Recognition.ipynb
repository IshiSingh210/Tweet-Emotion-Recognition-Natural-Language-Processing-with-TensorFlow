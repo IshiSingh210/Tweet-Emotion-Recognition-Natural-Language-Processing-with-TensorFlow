{
  "nbformat": 4,
  "nbformat_minor": 0,
  "metadata": {
    "accelerator": "GPU",
    "colab": {
      "provenance": []
    },
    "kernelspec": {
      "display_name": "Python 3",
      "language": "python",
      "name": "python3"
    },
    "language_info": {
      "codemirror_mode": {
        "name": "ipython",
        "version": 3
      },
      "file_extension": ".py",
      "mimetype": "text/x-python",
      "name": "python",
      "nbconvert_exporter": "python",
      "pygments_lexer": "ipython3",
      "version": "3.8.3"
    }
  },
  "cells": [
    {
      "cell_type": "markdown",
      "metadata": {
        "id": "sp7D0ktn5eiG"
      },
      "source": [
        "## Tweet Emotion Recognition: Natural Language Processing with TensorFlow\n"
      ]
    },
    {
      "cell_type": "markdown",
      "metadata": {
        "id": "cprXxkrMxIgT"
      },
      "source": [
        "## Setup and Imports\n",
        "\n",
        "1. Installing Hugging Face's nlp package\n",
        "2. Importing libraries"
      ]
    },
    {
      "cell_type": "code",
      "metadata": {
        "id": "5agZRy-45i0g",
        "colab": {
          "base_uri": "https://localhost:8080/"
        },
        "outputId": "459480d7-b8ef-4f78-b0b3-8462a4306e29"
      },
      "source": [
        "!pip install nlp"
      ],
      "execution_count": null,
      "outputs": [
        {
          "output_type": "stream",
          "name": "stdout",
          "text": [
            "Requirement already satisfied: nlp in /usr/local/lib/python3.10/dist-packages (0.4.0)\n",
            "Requirement already satisfied: numpy in /usr/local/lib/python3.10/dist-packages (from nlp) (1.26.4)\n",
            "Requirement already satisfied: pyarrow>=0.16.0 in /usr/local/lib/python3.10/dist-packages (from nlp) (16.1.0)\n",
            "Requirement already satisfied: dill in /usr/local/lib/python3.10/dist-packages (from nlp) (0.3.8)\n",
            "Requirement already satisfied: pandas in /usr/local/lib/python3.10/dist-packages (from nlp) (2.2.2)\n",
            "Requirement already satisfied: requests>=2.19.0 in /usr/local/lib/python3.10/dist-packages (from nlp) (2.32.3)\n",
            "Requirement already satisfied: tqdm>=4.27 in /usr/local/lib/python3.10/dist-packages (from nlp) (4.66.5)\n",
            "Requirement already satisfied: filelock in /usr/local/lib/python3.10/dist-packages (from nlp) (3.16.1)\n",
            "Requirement already satisfied: xxhash in /usr/local/lib/python3.10/dist-packages (from nlp) (3.5.0)\n",
            "Requirement already satisfied: charset-normalizer<4,>=2 in /usr/local/lib/python3.10/dist-packages (from requests>=2.19.0->nlp) (3.4.0)\n",
            "Requirement already satisfied: idna<4,>=2.5 in /usr/local/lib/python3.10/dist-packages (from requests>=2.19.0->nlp) (3.10)\n",
            "Requirement already satisfied: urllib3<3,>=1.21.1 in /usr/local/lib/python3.10/dist-packages (from requests>=2.19.0->nlp) (2.2.3)\n",
            "Requirement already satisfied: certifi>=2017.4.17 in /usr/local/lib/python3.10/dist-packages (from requests>=2.19.0->nlp) (2024.8.30)\n",
            "Requirement already satisfied: python-dateutil>=2.8.2 in /usr/local/lib/python3.10/dist-packages (from pandas->nlp) (2.8.2)\n",
            "Requirement already satisfied: pytz>=2020.1 in /usr/local/lib/python3.10/dist-packages (from pandas->nlp) (2024.2)\n",
            "Requirement already satisfied: tzdata>=2022.7 in /usr/local/lib/python3.10/dist-packages (from pandas->nlp) (2024.2)\n",
            "Requirement already satisfied: six>=1.5 in /usr/local/lib/python3.10/dist-packages (from python-dateutil>=2.8.2->pandas->nlp) (1.16.0)\n"
          ]
        }
      ]
    },
    {
      "cell_type": "code",
      "metadata": {
        "id": "yKFjWz6e5eiH",
        "colab": {
          "base_uri": "https://localhost:8080/"
        },
        "outputId": "f57a9b7e-19b5-4d40-cedf-198e7d8bac5c"
      },
      "source": [
        "%matplotlib inline\n",
        "\n",
        "import tensorflow as tf\n",
        "import numpy as np\n",
        "import matplotlib.pyplot as plt\n",
        "import nlp\n",
        "import random\n",
        "\n",
        "\n",
        "def show_history(h):\n",
        "    epochs_trained = len(h.history['loss'])\n",
        "    plt.figure(figsize=(16, 6))\n",
        "\n",
        "    plt.subplot(1, 2, 1)\n",
        "    plt.plot(range(0, epochs_trained), h.history.get('accuracy'), label='Training')\n",
        "    plt.plot(range(0, epochs_trained), h.history.get('val_accuracy'), label='Validation')\n",
        "    plt.ylim([0., 1.])\n",
        "    plt.xlabel('Epochs')\n",
        "    plt.ylabel('Accuracy')\n",
        "    plt.legend()\n",
        "\n",
        "    plt.subplot(1, 2, 2)\n",
        "    plt.plot(range(0, epochs_trained), h.history.get('loss'), label='Training')\n",
        "    plt.plot(range(0, epochs_trained), h.history.get('val_loss'), label='Validation')\n",
        "    plt.xlabel('Epochs')\n",
        "    plt.ylabel('Loss')\n",
        "    plt.legend()\n",
        "    plt.show()\n",
        "\n",
        "\n",
        "def show_confusion_matrix(y_true, y_pred, classes):\n",
        "    from sklearn.metrics import confusion_matrix\n",
        "\n",
        "    cm = confusion_matrix(y_true, y_pred, normalize='true')\n",
        "\n",
        "    plt.figure(figsize=(8, 8))\n",
        "    sp = plt.subplot(1, 1, 1)\n",
        "    ctx = sp.matshow(cm)\n",
        "    plt.xticks(list(range(0, 6)), labels=classes)\n",
        "    plt.yticks(list(range(0, 6)), labels=classes)\n",
        "    plt.colorbar(ctx)\n",
        "    plt.show()\n",
        "\n",
        "\n",
        "print('Using TensorFlow version', tf.__version__)"
      ],
      "execution_count": null,
      "outputs": [
        {
          "output_type": "stream",
          "name": "stdout",
          "text": [
            "Using TensorFlow version 2.17.0\n"
          ]
        }
      ]
    },
    {
      "cell_type": "markdown",
      "metadata": {
        "id": "7JsBpezExIga"
      },
      "source": [
        "## Importing Data\n",
        "\n",
        "1. Importing the Tweet Emotion dataset\n",
        "2. Creating train, validation and test sets\n",
        "3. Extracting tweets and labels from the examples"
      ]
    },
    {
      "cell_type": "code",
      "metadata": {
        "id": "0YHOvjAu5eiL",
        "colab": {
          "base_uri": "https://localhost:8080/"
        },
        "outputId": "faa07252-8839-4117-8b7b-7f945c6c7580"
      },
      "source": [
        "!pip install datasets\n",
        "from datasets import load_dataset\n",
        "dataset = load_dataset('emotion')"
      ],
      "execution_count": null,
      "outputs": [
        {
          "output_type": "stream",
          "name": "stdout",
          "text": [
            "Requirement already satisfied: datasets in /usr/local/lib/python3.10/dist-packages (3.0.2)\n",
            "Requirement already satisfied: filelock in /usr/local/lib/python3.10/dist-packages (from datasets) (3.16.1)\n",
            "Requirement already satisfied: numpy>=1.17 in /usr/local/lib/python3.10/dist-packages (from datasets) (1.26.4)\n",
            "Requirement already satisfied: pyarrow>=15.0.0 in /usr/local/lib/python3.10/dist-packages (from datasets) (16.1.0)\n",
            "Requirement already satisfied: dill<0.3.9,>=0.3.0 in /usr/local/lib/python3.10/dist-packages (from datasets) (0.3.8)\n",
            "Requirement already satisfied: pandas in /usr/local/lib/python3.10/dist-packages (from datasets) (2.2.2)\n",
            "Requirement already satisfied: requests>=2.32.2 in /usr/local/lib/python3.10/dist-packages (from datasets) (2.32.3)\n",
            "Requirement already satisfied: tqdm>=4.66.3 in /usr/local/lib/python3.10/dist-packages (from datasets) (4.66.5)\n",
            "Requirement already satisfied: xxhash in /usr/local/lib/python3.10/dist-packages (from datasets) (3.5.0)\n",
            "Requirement already satisfied: multiprocess<0.70.17 in /usr/local/lib/python3.10/dist-packages (from datasets) (0.70.16)\n",
            "Requirement already satisfied: fsspec<=2024.9.0,>=2023.1.0 in /usr/local/lib/python3.10/dist-packages (from fsspec[http]<=2024.9.0,>=2023.1.0->datasets) (2024.6.1)\n",
            "Requirement already satisfied: aiohttp in /usr/local/lib/python3.10/dist-packages (from datasets) (3.10.10)\n",
            "Requirement already satisfied: huggingface-hub>=0.23.0 in /usr/local/lib/python3.10/dist-packages (from datasets) (0.24.7)\n",
            "Requirement already satisfied: packaging in /usr/local/lib/python3.10/dist-packages (from datasets) (24.1)\n",
            "Requirement already satisfied: pyyaml>=5.1 in /usr/local/lib/python3.10/dist-packages (from datasets) (6.0.2)\n",
            "Requirement already satisfied: aiohappyeyeballs>=2.3.0 in /usr/local/lib/python3.10/dist-packages (from aiohttp->datasets) (2.4.3)\n",
            "Requirement already satisfied: aiosignal>=1.1.2 in /usr/local/lib/python3.10/dist-packages (from aiohttp->datasets) (1.3.1)\n",
            "Requirement already satisfied: attrs>=17.3.0 in /usr/local/lib/python3.10/dist-packages (from aiohttp->datasets) (24.2.0)\n",
            "Requirement already satisfied: frozenlist>=1.1.1 in /usr/local/lib/python3.10/dist-packages (from aiohttp->datasets) (1.4.1)\n",
            "Requirement already satisfied: multidict<7.0,>=4.5 in /usr/local/lib/python3.10/dist-packages (from aiohttp->datasets) (6.1.0)\n",
            "Requirement already satisfied: yarl<2.0,>=1.12.0 in /usr/local/lib/python3.10/dist-packages (from aiohttp->datasets) (1.16.0)\n",
            "Requirement already satisfied: async-timeout<5.0,>=4.0 in /usr/local/lib/python3.10/dist-packages (from aiohttp->datasets) (4.0.3)\n",
            "Requirement already satisfied: typing-extensions>=3.7.4.3 in /usr/local/lib/python3.10/dist-packages (from huggingface-hub>=0.23.0->datasets) (4.12.2)\n",
            "Requirement already satisfied: charset-normalizer<4,>=2 in /usr/local/lib/python3.10/dist-packages (from requests>=2.32.2->datasets) (3.4.0)\n",
            "Requirement already satisfied: idna<4,>=2.5 in /usr/local/lib/python3.10/dist-packages (from requests>=2.32.2->datasets) (3.10)\n",
            "Requirement already satisfied: urllib3<3,>=1.21.1 in /usr/local/lib/python3.10/dist-packages (from requests>=2.32.2->datasets) (2.2.3)\n",
            "Requirement already satisfied: certifi>=2017.4.17 in /usr/local/lib/python3.10/dist-packages (from requests>=2.32.2->datasets) (2024.8.30)\n",
            "Requirement already satisfied: python-dateutil>=2.8.2 in /usr/local/lib/python3.10/dist-packages (from pandas->datasets) (2.8.2)\n",
            "Requirement already satisfied: pytz>=2020.1 in /usr/local/lib/python3.10/dist-packages (from pandas->datasets) (2024.2)\n",
            "Requirement already satisfied: tzdata>=2022.7 in /usr/local/lib/python3.10/dist-packages (from pandas->datasets) (2024.2)\n",
            "Requirement already satisfied: six>=1.5 in /usr/local/lib/python3.10/dist-packages (from python-dateutil>=2.8.2->pandas->datasets) (1.16.0)\n",
            "Requirement already satisfied: propcache>=0.2.0 in /usr/local/lib/python3.10/dist-packages (from yarl<2.0,>=1.12.0->aiohttp->datasets) (0.2.0)\n"
          ]
        },
        {
          "output_type": "stream",
          "name": "stderr",
          "text": [
            "/usr/local/lib/python3.10/dist-packages/huggingface_hub/utils/_token.py:89: UserWarning: \n",
            "The secret `HF_TOKEN` does not exist in your Colab secrets.\n",
            "To authenticate with the Hugging Face Hub, create a token in your settings tab (https://huggingface.co/settings/tokens), set it as secret in your Google Colab and restart your session.\n",
            "You will be able to reuse this secret in all of your notebooks.\n",
            "Please note that authentication is recommended but still optional to access public models or datasets.\n",
            "  warnings.warn(\n"
          ]
        }
      ]
    },
    {
      "cell_type": "code",
      "metadata": {
        "id": "2s0h541FxIgc",
        "colab": {
          "base_uri": "https://localhost:8080/"
        },
        "outputId": "9fb55c06-0e8f-414d-a661-9546a6355902"
      },
      "source": [
        "dataset"
      ],
      "execution_count": null,
      "outputs": [
        {
          "output_type": "execute_result",
          "data": {
            "text/plain": [
              "DatasetDict({\n",
              "    train: Dataset({\n",
              "        features: ['text', 'label'],\n",
              "        num_rows: 16000\n",
              "    })\n",
              "    validation: Dataset({\n",
              "        features: ['text', 'label'],\n",
              "        num_rows: 2000\n",
              "    })\n",
              "    test: Dataset({\n",
              "        features: ['text', 'label'],\n",
              "        num_rows: 2000\n",
              "    })\n",
              "})"
            ]
          },
          "metadata": {},
          "execution_count": 5
        }
      ]
    },
    {
      "cell_type": "code",
      "metadata": {
        "id": "z7eCnxU25eiN"
      },
      "source": [
        "train = dataset['train']\n",
        "val = dataset['validation']\n",
        "test = dataset['test']"
      ],
      "execution_count": null,
      "outputs": []
    },
    {
      "cell_type": "code",
      "source": [
        "DATA = {0: \"sadness\", 2:\"love\", 1:\"joy\", 3:\"anger\", 4:\"fear\", 5:\"surprise\"}"
      ],
      "metadata": {
        "id": "azvR5YbKPz0m"
      },
      "execution_count": 64,
      "outputs": []
    },
    {
      "cell_type": "code",
      "metadata": {
        "id": "oDYXMfZy5eiP"
      },
      "source": [
        "def get_tweets(data):\n",
        "  tweets = [x['text'] for x in data]\n",
        "  labels = [x['label'] for x in data]\n",
        "  return tweets, labels"
      ],
      "execution_count": null,
      "outputs": []
    },
    {
      "cell_type": "code",
      "metadata": {
        "id": "jeq3-vSB5eiR"
      },
      "source": [
        "tweets, labels = get_tweets(train)"
      ],
      "execution_count": null,
      "outputs": []
    },
    {
      "cell_type": "code",
      "metadata": {
        "id": "bHD3Tk0J5eiU",
        "colab": {
          "base_uri": "https://localhost:8080/"
        },
        "outputId": "21e48fbe-96f6-44a5-ca3a-94c775a98afe"
      },
      "source": [
        "tweets[0], labels[0]"
      ],
      "execution_count": null,
      "outputs": [
        {
          "output_type": "execute_result",
          "data": {
            "text/plain": [
              "(['i didnt feel humiliated',\n",
              "  'i can go from feeling so hopeless to so damned hopeful just from being around someone who cares and is awake',\n",
              "  'im grabbing a minute to post i feel greedy wrong',\n",
              "  'i am ever feeling nostalgic about the fireplace i will know that it is still on the property',\n",
              "  'i am feeling grouchy',\n",
              "  'ive been feeling a little burdened lately wasnt sure why that was',\n",
              "  'ive been taking or milligrams or times recommended amount and ive fallen asleep a lot faster but i also feel like so funny',\n",
              "  'i feel as confused about life as a teenager or as jaded as a year old man',\n",
              "  'i have been with petronas for years i feel that petronas has performed well and made a huge profit',\n",
              "  'i feel romantic too'],\n",
              " [0, 0, 3, 2, 3, 0, 5, 4, 1, 2])"
            ]
          },
          "metadata": {},
          "execution_count": 11
        }
      ]
    },
    {
      "cell_type": "markdown",
      "metadata": {
        "id": "gcAflLv6xIgp"
      },
      "source": [
        "## Tokenizer\n",
        "\n",
        "1. Tokenizing the tweets"
      ]
    },
    {
      "cell_type": "code",
      "metadata": {
        "id": "qfX5-ResxIgq"
      },
      "source": [
        "from tensorflow.keras.preprocessing.text import Tokenizer"
      ],
      "execution_count": null,
      "outputs": []
    },
    {
      "cell_type": "code",
      "metadata": {
        "id": "cckUvwBo5eif"
      },
      "source": [
        "tokenizer = Tokenizer(num_words=10000, oov_token='<UNK>')\n",
        "tokenizer.fit_on_texts(tweets)"
      ],
      "execution_count": null,
      "outputs": []
    },
    {
      "cell_type": "code",
      "source": [
        "tokenizer.texts_to_sequences([tweets[0]])"
      ],
      "metadata": {
        "colab": {
          "base_uri": "https://localhost:8080/"
        },
        "id": "iB7wwd2gGc4j",
        "outputId": "a5ea40d5-6e60-45bb-9347-a313142944c2"
      },
      "execution_count": null,
      "outputs": [
        {
          "output_type": "execute_result",
          "data": {
            "text/plain": [
              "[[2, 139, 3, 679]]"
            ]
          },
          "metadata": {},
          "execution_count": 16
        }
      ]
    },
    {
      "cell_type": "code",
      "source": [
        "tweets[0]"
      ],
      "metadata": {
        "colab": {
          "base_uri": "https://localhost:8080/",
          "height": 36
        },
        "id": "B-F4Kh4dGt68",
        "outputId": "ac321ba7-1d13-4d26-8d4b-18805abc9947"
      },
      "execution_count": null,
      "outputs": [
        {
          "output_type": "execute_result",
          "data": {
            "text/plain": [
              "'i didnt feel humiliated'"
            ],
            "application/vnd.google.colaboratory.intrinsic+json": {
              "type": "string"
            }
          },
          "metadata": {},
          "execution_count": 17
        }
      ]
    },
    {
      "cell_type": "markdown",
      "metadata": {
        "id": "i3Bqm7b2xIgu"
      },
      "source": [
        "## Padding and Truncating Sequences\n",
        "\n",
        "1. Checking length of the tweets\n",
        "2. Creating padded sequences"
      ]
    },
    {
      "cell_type": "code",
      "metadata": {
        "id": "mLvf_WFZxIgu",
        "colab": {
          "base_uri": "https://localhost:8080/",
          "height": 430
        },
        "outputId": "0ca8f55a-2659-4af0-e660-8eb4ed131828"
      },
      "source": [
        "lengths = [len(t.split(' ')) for t in tweets]\n",
        "plt.hist(lengths, bins=len(set(lengths)))\n",
        "plt.show()"
      ],
      "execution_count": null,
      "outputs": [
        {
          "output_type": "display_data",
          "data": {
            "text/plain": [
              "<Figure size 640x480 with 1 Axes>"
            ],
            "image/png": "[encoded data removed]"
          },
          "metadata": {}
        }
      ]
    },
    {
      "cell_type": "code",
      "metadata": {
        "id": "EOi5lIE3xIgx"
      },
      "source": [
        "maxlen = 50\n",
        "\n",
        "from tensorflow.keras.preprocessing.sequence import pad_sequences"
      ],
      "execution_count": null,
      "outputs": []
    },
    {
      "cell_type": "code",
      "metadata": {
        "id": "Q9J_Iemf5eiq"
      },
      "source": [
        "def get_sequences(tokenizer, tweets):\n",
        "  sequences = tokenizer.texts_to_sequences(tweets)\n",
        "  padded = pad_sequences(sequences, truncating='post', maxlen=maxlen, padding='post')\n",
        "  return padded"
      ],
      "execution_count": null,
      "outputs": []
    },
    {
      "cell_type": "code",
      "metadata": {
        "id": "eglH77ky5ei0",
        "colab": {
          "base_uri": "https://localhost:8080/"
        },
        "outputId": "1973d355-7769-4f50-b14f-2d46d5f57a06"
      },
      "source": [
        "padded_train_seq = get_sequences(tokenizer, tweets)\n",
        "padded_train_seq[0]"
      ],
      "execution_count": null,
      "outputs": [
        {
          "output_type": "execute_result",
          "data": {
            "text/plain": [
              "array([  2, 139,   3, 679,   0,   0,   0,   0,   0,   0,   0,   0,   0,\n",
              "         0,   0,   0,   0,   0,   0,   0,   0,   0,   0,   0,   0,   0,\n",
              "         0,   0,   0,   0,   0,   0,   0,   0,   0,   0,   0,   0,   0,\n",
              "         0,   0,   0,   0,   0,   0,   0,   0,   0,   0,   0], dtype=int32)"
            ]
          },
          "metadata": {},
          "execution_count": 24
        }
      ]
    },
    {
      "cell_type": "markdown",
      "metadata": {
        "id": "BURhOX_KxIg8"
      },
      "source": [
        "## Preparing the Labels\n",
        "\n",
        "1. Creating classes to index and index to classes dictionaries\n",
        "2. Converting text labels to numeric labels"
      ]
    },
    {
      "cell_type": "code",
      "metadata": {
        "id": "SufT2bpD5ejE",
        "colab": {
          "base_uri": "https://localhost:8080/"
        },
        "outputId": "611f7049-e7ab-45ea-8c1d-018f736efe6d"
      },
      "source": [
        "classes = set(labels)\n",
        "print(classes)"
      ],
      "execution_count": null,
      "outputs": [
        {
          "output_type": "stream",
          "name": "stdout",
          "text": [
            "{0, 1, 2, 3, 4, 5}\n",
            "[0, 0, 3, 2, 3, 0, 5, 4, 1, 2, 0, 1, 3, 0, 1, 1, 0, 0, 0, 4, 3, 4, 1, 1, 3, 0, 0, 0, 3, 1, 1, 4, 5, 3, 1, 1, 1, 1, 3, 1, 1, 1, 1, 1, 0, 0, 1, 2, 1, 3, 1, 0, 3, 4, 1, 0, 0, 5, 1, 1, 1, 2, 4, 4, 5, 3, 3, 0, 2, 1, 0, 0, 1, 0, 0, 0, 1, 1, 1, 3, 0, 3, 3, 3, 1, 1, 1, 1, 0, 4, 2, 3, 0, 3, 2, 0, 1, 1, 0, 3, 2, 1, 1, 1, 0, 1, 1, 1, 1, 0, 1, 1, 2, 0, 0, 1, 1, 0, 1, 1, 4, 4, 4, 0, 2, 1, 1, 2, 4, 5, 1, 1, 1, 1, 3, 4, 1, 3, 2, 3, 0, 1, 0, 3, 1, 5, 0, 3, 3, 0, 1, 4, 1, 1, 4, 0, 5, 5, 1, 3, 4, 3, 0, 3, 0, 4, 0, 1, 5, 4, 1, 3, 1, 3, 1, 4, 4, 0, 1, 1, 0, 5, 1, 4, 1, 0, 1, 1, 1, 4, 1, 5, 1, 3, 0, 0, 1, 3, 0, 1, 1, 5, 1, 4, 1, 4, 0, 4, 2, 0, 4, 2, 0, 0, 3, 1, 2, 3, 0, 5, 3, 1, 0, 3, 1, 1, 1, 1, 1, 0, 1, 2, 1, 0, 3, 5, 1, 3, 1, 2, 0, 0, 1, 0, 0, 1, 0, 1, 1, 1, 4, 0, 3, 0, 3, 2, 1, 2, 0, 1, 1, 1, 0, 1, 0, 3, 2, 0, 2, 0, 0, 0, 0, 0, 0, 4, 1, 0, 0, 1, 2, 0, 3, 0, 2, 1, 1, 1, 0, 1, 0, 1, 1, 1, 0, 0, 0, 2, 4, 0, 4, 1, 1, 4, 1, 3, 3, 2, 0, 5, 1, 3, 0, 0, 3, 2, 5, 0, 2, 1, 3, 1, 0, 0, 1, 1, 4, 0, 3, 1, 2, 1, 1, 1, 1, 1, 2, 1, 4, 4, 1, 1, 3, 1, 1, 1, 0, 5, 1, 1, 0, 5, 1, 4, 1, 3, 2, 3, 4, 5, 1, 3, 0, 0, 0, 4, 1, 4, 1, 3, 0, 2, 3, 0, 2, 2, 1, 0, 1, 1, 3, 1, 2, 1, 1, 0, 5, 1, 1, 0, 5, 3, 1, 1, 2, 1, 2, 2, 1, 0, 1, 0, 4, 3, 0, 3, 1, 4, 5, 2, 0, 0, 1, 5, 2, 0, 0, 1, 4, 1, 1, 1, 2, 4, 0, 0, 4, 2, 1, 0, 1, 0, 1, 0, 1, 0, 1, 1, 3, 0, 4, 0, 0, 3, 5, 5, 1, 5, 4, 2, 3, 1, 4, 0, 3, 0, 1, 4, 1, 1, 1, 1, 5, 3, 0, 1, 0, 3, 2, 0, 2, 3, 2, 2, 1, 1, 0, 1, 0, 1, 3, 1, 4, 0, 1, 0, 5, 1, 1, 2, 1, 0, 3, 1, 0, 0, 0, 1, 1, 1, 0, 0, 3, 3, 1, 0, 5, 1, 1, 0, 3, 1, 3, 1, 1, 2, 3, 1, 1, 1, 1, 1, 1, 1, 4, 1, 4, 0, 3, 3, 0, 2, 0, 0, 0, 5, 4, 0, 0, 1, 4, 1, 0, 0, 3, 0, 3, 3, 2, 1, 1, 0, 1, 1, 1, 2, 2, 2, 1, 5, 4, 0, 3, 0, 4, 1, 3, 1, 1, 0, 1, 4, 1, 3, 0, 3, 1, 2, 2, 0, 4, 0, 0, 0, 4, 0, 3, 1, 1, 0, 4, 4, 3, 3, 0, 0, 3, 3, 1, 4, 0, 0, 4, 1, 4, 0, 0, 1, 0, 3, 0, 2, 5, 1, 1, 1, 1, 1, 0, 0, 2, 4, 3, 1, 2, 1, 1, 4, 3, 4, 0, 3, 3, 3, 4, 1, 2, 3, 4, 3, 1, 4, 0, 0, 3, 1, 3, 4, 4, 5, 0, 1, 1, 1, 2, 0, 1, 0, 3, 1, 1, 4, 4, 1, 4, 3, 3, 3, 1, 0, 1, 1, 1, 3, 4, 3, 1, 0, 1, 4, 1, 0, 3, 0, 0, 1, 1, 0, 2, 1, 0, 3, 2, 0, 1, 1, 4, 3, 1, 1, 2, 5, 4, 4, 3, 3, 2, 0, 0, 1, 2, 3, 1, 3, 1, 1, 1, 4, 4, 2, 0, 2, 1, 1, 0, 0, 3, 3, 3, 3, 0, 1, 0, 1, 4, 0, 1, 0, 1, 5, 4, 1, 1, 4, 4, 0, 0, 3, 0, 2, 1, 5, 1, 5, 1, 4, 1, 1, 1, 1, 5, 2, 0, 2, 1, 0, 1, 1, 0, 1, 1, 1, 1, 4, 4, 4, 4, 3, 2, 0, 1, 1, 0, 0, 0, 0, 1, 0, 0, 4, 1, 3, 1, 1, 4, 3, 1, 3, 3, 3, 3, 3, 1, 4, 0, 2, 0, 4, 2, 1, 5, 1, 1, 1, 1, 0, 5, 1, 3, 3, 3, 1, 1, 0, 2, 0, 1, 3, 3, 3, 4, 1, 1, 4, 0, 5, 1, 2, 0, 1, 1, 0, 0, 0, 3, 1, 0, 0, 0, 0, 1, 5, 1, 3, 2, 1, 3, 0, 1, 3, 0, 4, 4, 0, 0, 4, 0, 2, 4, 1, 1, 4, 1, 3, 1, 1, 3, 1, 1, 2, 3, 1, 1, 1, 3, 1, 2, 4, 3, 2, 0, 4, 0, 0, 2, 1, 4, 2, 1, 1, 0, 1, 0, 4, 1, 0, 2, 0, 2, 0, 0, 3, 2, 3, 1, 3, 0, 0, 1, 1, 3, 0, 5, 1, 2, 0, 3, 4, 2, 1, 1, 3, 1, 0, 1, 1, 1, 2, 1, 0, 2, 4, 0, 1, 0, 3, 1, 1, 0, 1, 2, 1, 1, 1, 3, 4, 0, 1, 0, 0, 2, 3, 1, 2, 0, 1, 4, 0, 1, 1, 0, 0, 2, 1, 0, 0, 0, 0, 3, 0, 1, 0, 1, 0, 2, 3, 1, 4, 0, 0, 1, 1, 3, 4, 2, 1, 0, 3, 0, 1, 0, 1, 1, 0, 2, 1, 1, 0, 3, 0, 3, 0, 1, 0, 3, 1, 5, 0, 4, 0, 4, 0, 3, 3, 1, 3, 1, 1, 1, 0, 4, 1, 1, 3, 1, 4, 1, 2, 0, 0, 0, 0, 1, 2, 4, 1, 3, 0, 1, 4, 1, 1, 0, 4, 0, 1, 0, 0, 0, 0, 2, 0, 4, 4, 1, 2, 0, 0, 2, 1, 0, 0, 0, 0, 2, 1, 1, 0, 4, 1, 1, 1, 1, 1, 3, 4, 2, 1, 3, 2, 2, 1, 0, 0, 3, 1, 1, 4, 1, 1, 0, 0, 2, 1, 1, 1, 1, 1, 0, 1, 2, 1, 4, 1, 0, 1, 1, 4, 1, 0, 4, 1, 0, 1, 0, 4, 1, 1, 4, 0, 0, 1, 1, 1, 1, 4, 1, 1, 4, 1, 4, 5, 1, 4, 5, 4, 1, 1, 5, 0, 0, 1, 1, 1, 1, 1, 1, 1, 1, 4, 0, 3, 1, 0, 1, 4, 2, 2, 4, 0, 0, 1, 4, 0, 2, 3, 1, 0, 1, 1, 0, 4, 0, 1, 0, 0, 1, 0, 0, 0, 4, 1, 3, 0, 0, 1, 1, 1, 1, 2, 1, 4, 1, 1, 1, 4, 0, 0, 1, 0, 0, 1, 0, 0, 0, 1, 0, 4, 3, 0, 1, 4, 1, 0, 1, 1, 4, 4, 0, 1, 5, 1, 3, 2, 0, 0, 2, 3, 4, 4, 1, 0, 2, 0, 0, 1, 1, 0, 2, 1, 1, 1, 1, 3, 5, 2, 3, 0, 0, 1, 0, 1, 1, 1, 0, 3, 0, 0, 0, 1, 3, 1, 0, 0, 1, 3, 1, 1, 2, 0, 1, 0, 5, 3, 1, 0, 4, 1, 1, 3, 1, 1, 0, 3, 2, 1, 0, 5, 2, 2, 0, 0, 0, 2, 0, 2, 1, 1, 0, 2, 1, 3, 0, 1, 3, 0, 3, 1, 2, 1, 4, 3, 1, 0, 4, 0, 0, 0, 0, 0, 4, 2, 0, 0, 1, 0, 2, 3, 1, 5, 1, 4, 0, 4, 0, 1, 3, 3, 5, 1, 2, 0, 5, 1, 1, 5, 0, 2, 1, 3, 4, 0, 0, 0, 0, 0, 3, 1, 1, 1, 0, 5, 5, 3, 1, 1, 4, 1, 0, 4, 3, 3, 4, 2, 4, 3, 3, 3, 0, 4, 1, 1, 4, 4, 3, 1, 3, 1, 1, 2, 3, 0, 4, 1, 3, 0, 3, 0, 2, 3, 4, 1, 4, 0, 0, 3, 1, 4, 0, 2, 2, 0, 3, 3, 1, 0, 3, 0, 0, 4, 1, 0, 0, 1, 3, 0, 1, 1, 3, 1, 1, 3, 3, 0, 1, 3, 0, 4, 0, 4, 1, 4, 1, 1, 1, 1, 0, 3, 0, 1, 4, 1, 0, 1, 4, 1, 1, 1, 1, 0, 1, 3, 1, 1, 1, 1, 4, 1, 4, 0, 2, 1, 1, 1, 1, 3, 1, 4, 0, 3, 1, 1, 0, 5, 5, 1, 0, 0, 2, 4, 1, 2, 2, 1, 0, 0, 1, 3, 1, 1, 1, 4, 4, 1, 0, 5, 1, 1, 1, 1, 1, 0, 3, 4, 3, 0, 1, 3, 4, 2, 0, 2, 1, 0, 2, 0, 1, 1, 2, 0, 2, 3, 1, 2, 1, 4, 0, 0, 5, 0, 1, 1, 1, 3, 0, 1, 1, 0, 1, 1, 0, 0, 1, 3, 1, 4, 3, 1, 1, 1, 4, 0, 1, 4, 0, 0, 3, 0, 1, 1, 3, 0, 0, 0, 0, 1, 1, 1, 0, 1, 1, 1, 0, 4, 2, 4, 4, 4, 3, 3, 0, 1, 0, 0, 0, 0, 4, 1, 0, 1, 4, 4, 0, 3, 4, 0, 0, 1, 3, 0, 0, 1, 0, 4, 3, 3, 1, 1, 0, 1, 1, 0, 0, 1, 0, 4, 1, 0, 0, 0, 4, 1, 5, 0, 1, 2, 1, 3, 5, 1, 1, 0, 0, 1, 1, 4, 1, 3, 1, 1, 1, 4, 1, 3, 1, 3, 0, 1, 0, 0, 1, 4, 1, 1, 4, 0, 0, 2, 0, 3, 0, 0, 3, 3, 0, 2, 0, 2, 1, 0, 1, 2, 4, 1, 4, 1, 3, 1, 0, 1, 1, 4, 5, 0, 1, 0, 5, 0, 0, 0, 0, 1, 4, 0, 0, 3, 1, 0, 2, 4, 3, 0, 4, 0, 1, 1, 1, 5, 1, 0, 1, 3, 1, 1, 3, 3, 0, 5, 4, 5, 1, 4, 0, 2, 1, 1, 3, 0, 2, 0, 0, 1, 3, 0, 0, 3, 5, 1, 3, 0, 3, 3, 0, 1, 5, 4, 1, 1, 4, 1, 3, 0, 0, 1, 1, 0, 1, 0, 4, 3, 0, 1, 3, 3, 2, 1, 1, 1, 1, 3, 1, 1, 0, 1, 1, 1, 1, 4, 0, 0, 0, 1, 1, 0, 0, 1, 1, 2, 0, 3, 0, 2, 1, 0, 1, 0, 1, 3, 1, 0, 0, 0, 5, 3, 1, 0, 0, 3, 1, 1, 0, 4, 1, 2, 0, 3, 4, 4, 2, 0, 2, 1, 2, 0, 0, 1, 2, 4, 0, 1, 1, 0, 0, 2, 1, 4, 4, 3, 1, 4, 4, 5, 0, 1, 4, 1, 4, 1, 0, 2, 1, 1, 3, 0, 1, 1, 3, 0, 0, 1, 1, 4, 1, 4, 1, 1, 1, 4, 1, 3, 3, 1, 4, 0, 1, 0, 0, 3, 0, 3, 0, 0, 1, 0, 4, 0, 2, 4, 1, 0, 4, 2, 1, 4, 0, 0, 0, 1, 1, 1, 1, 0, 3, 4, 1, 1, 1, 0, 5, 4, 1, 1, 0, 1, 2, 1, 0, 4, 1, 3, 1, 1, 3, 4, 2, 5, 3, 1, 0, 0, 0, 0, 0, 3, 5, 4, 1, 0, 0, 1, 0, 1, 2, 3, 0, 4, 0, 1, 0, 2, 1, 0, 2, 2, 0, 4, 1, 1, 2, 1, 1, 0, 1, 0, 2, 2, 3, 0, 1, 0, 4, 1, 0, 1, 4, 0, 1, 5, 5, 1, 0, 3, 4, 3, 0, 0, 5, 1, 0, 3, 0, 4, 2, 1, 1, 5, 1, 0, 3, 4, 0, 1, 1, 4, 1, 1, 1, 0, 3, 1, 3, 0, 1, 0, 0, 4, 2, 4, 1, 1, 1, 1, 4, 3, 5, 1, 0, 0, 1, 4, 0, 1, 0, 1, 0, 1, 1, 1, 2, 4, 1, 0, 0, 5, 2, 4, 3, 3, 0, 0, 1, 2, 1, 2, 1, 4, 0, 2, 0, 0, 0, 0, 3, 0, 0, 1, 0, 0, 0, 2, 3, 3, 0, 0, 1, 4, 3, 0, 1, 1, 5, 2, 1, 3, 1, 1, 0, 5, 0, 1, 5, 3, 1, 0, 1, 2, 1, 1, 4, 5, 1, 4, 1, 3, 4, 1, 0, 0, 0, 1, 3, 1, 2, 0, 0, 1, 3, 0, 1, 1, 5, 0, 1, 0, 0, 2, 3, 3, 1, 5, 3, 2, 2, 3, 0, 3, 0, 3, 1, 0, 4, 1, 2, 4, 1, 1, 1, 1, 0, 0, 4, 1, 3, 0, 0, 3, 0, 3, 0, 4, 5, 0, 1, 1, 1, 3, 0, 1, 0, 1, 1, 0, 4, 0, 1, 5, 1, 2, 1, 4, 3, 0, 1, 1, 1, 3, 0, 0, 3, 4, 0, 3, 0, 0, 3, 1, 5, 0, 4, 0, 4, 4, 4, 0, 1, 2, 1, 1, 0, 3, 3, 3, 5, 1, 5, 4, 1, 3, 0, 4, 1, 4, 1, 2, 0, 0, 0, 0, 5, 0, 1, 1, 0, 1, 1, 4, 1, 2, 3, 4, 1, 0, 3, 0, 2, 1, 1, 5, 3, 0, 1, 1, 1, 0, 1, 2, 3, 1, 1, 3, 3, 0, 2, 0, 1, 1, 3, 1, 1, 0, 2, 2, 1, 3, 1, 1, 5, 0, 0, 1, 3, 0, 3, 0, 1, 1, 1, 1, 0, 4, 1, 0, 0, 3, 3, 1, 1, 0, 4, 0, 0, 3, 4, 3, 3, 1, 0, 1, 1, 5, 4, 1, 0, 1, 4, 5, 3, 1, 0, 4, 4, 3, 2, 1, 3, 1, 0, 5, 0, 3, 0, 5, 4, 0, 0, 0, 3, 0, 1, 4, 1, 1, 0, 0, 2, 3, 1, 0, 2, 0, 1, 1, 1, 4, 2, 1, 1, 4, 1, 3, 0, 2, 0, 3, 3, 1, 2, 0, 0, 1, 0, 1, 5, 1, 3, 4, 3, 1, 0, 1, 0, 3, 4, 0, 0, 0, 3, 1, 4, 3, 0, 3, 1, 0, 4, 4, 1, 0, 2, 5, 4, 1, 3, 1, 1, 0, 1, 1, 1, 0, 3, 1, 3, 1, 3, 2, 2, 2, 5, 0, 1, 1, 0, 1, 4, 1, 2, 1, 0, 0, 1, 4, 1, 0, 1, 4, 0, 1, 0, 5, 1, 4, 1, 0, 0, 0, 0, 0, 4, 1, 1, 3, 4, 3, 1, 1, 1, 3, 3, 0, 0, 0, 3, 2, 0, 3, 1, 3, 0, 1, 1, 1, 1, 0, 1, 0, 0, 1, 0, 1, 4, 1, 3, 1, 0, 0, 5, 1, 1, 1, 3, 1, 3, 1, 1, 1, 1, 5, 0, 1, 2, 1, 0, 0, 5, 3, 3, 2, 1, 3, 3, 3, 4, 0, 4, 1, 4, 2, 1, 3, 0, 2, 0, 5, 0, 1, 1, 0, 1, 1, 0, 1, 1, 4, 1, 1, 3, 1, 1, 0, 0, 0, 1, 0, 0, 4, 4, 2, 1, 1, 1, 4, 0, 3, 0, 0, 0, 1, 0, 0, 0, 0, 0, 1, 1, 3, 3, 3, 0, 3, 1, 0, 0, 4, 0, 1, 1, 3, 0, 4, 4, 0, 2, 0, 1, 0, 0, 4, 5, 0, 1, 5, 3, 0, 3, 3, 0, 3, 5, 1, 1, 0, 0, 1, 1, 1, 0, 1, 1, 1, 0, 0, 1, 2, 1, 4, 0, 1, 1, 0, 3, 1, 1, 1, 0, 0, 1, 0, 1, 1, 0, 0, 0, 1, 3, 5, 4, 1, 4, 0, 1, 0, 0, 0, 1, 4, 1, 0, 1, 1, 1, 0, 0, 1, 1, 4, 1, 3, 3, 1, 0, 1, 0, 0, 0, 0, 1, 4, 0, 0, 0, 3, 1, 2, 2, 1, 0, 0, 2, 0, 3, 0, 4, 1, 0, 0, 2, 0, 1, 0, 3, 5, 1, 5, 4, 1, 4, 0, 3, 1, 1, 1, 3, 4, 1, 0, 3, 0, 1, 0, 1, 1, 1, 3, 0, 1, 0, 0, 3, 1, 4, 1, 3, 4, 0, 3, 1, 3, 1, 1, 0, 1, 2, 5, 1, 4, 4, 1, 0, 1, 1, 1, 2, 0, 2, 3, 0, 0, 4, 1, 1, 3, 0, 1, 4, 4, 2, 3, 3, 2, 0, 3, 0, 2, 1, 4, 1, 1, 0, 1, 1, 3, 1, 1, 1, 1, 3, 1, 3, 0, 0, 0, 1, 0, 3, 0, 2, 3, 1, 0, 1, 3, 4, 2, 3, 1, 1, 0, 4, 4, 0, 0, 5, 1, 0, 1, 2, 3, 0, 2, 0, 0, 5, 1, 0, 0, 0, 3, 0, 0, 1, 3, 0, 0, 4, 0, 1, 0, 1, 3, 1, 0, 0, 3, 0, 3, 2, 1, 4, 0, 4, 4, 0, 4, 2, 0, 5, 3, 3, 4, 4, 4, 4, 0, 1, 0, 4, 0, 3, 1, 0, 2, 1, 0, 0, 3, 0, 1, 1, 4, 3, 0, 0, 0, 0, 1, 0, 1, 1, 0, 1, 3, 1, 1, 0, 0, 0, 3, 4, 0, 0, 3, 1, 1, 1, 0, 0, 0, 4, 1, 1, 4, 1, 0, 1, 1, 1, 3, 5, 3, 1, 1, 2, 0, 1, 0, 2, 1, 0, 3, 2, 3, 0, 0, 0, 1, 1, 1, 4, 2, 1, 1, 2, 3, 1, 4, 0, 2, 1, 1, 1, 5, 0, 1, 0, 0, 1, 0, 1, 1, 4, 0, 0, 0, 1, 1, 0, 1, 1, 1, 1, 0, 2, 3, 1, 2, 0, 1, 3, 0, 1, 5, 4, 2, 1, 1, 0, 3, 0, 1, 0, 1, 4, 4, 1, 1, 4, 3, 1, 1, 0, 0, 3, 0, 1, 1, 3, 0, 1, 1, 0, 1, 1, 0, 3, 1, 3, 3, 0, 4, 5, 4, 1, 0, 0, 1, 0, 0, 2, 4, 2, 4, 0, 1, 0, 1, 0, 2, 1, 0, 0, 3, 1, 3, 4, 0, 0, 0, 2, 1, 1, 0, 4, 0, 3, 0, 1, 2, 1, 1, 3, 1, 4, 0, 1, 1, 4, 3, 4, 1, 0, 0, 4, 0, 0, 1, 5, 4, 4, 1, 0, 1, 4, 0, 4, 0, 3, 1, 3, 1, 2, 2, 1, 1, 1, 0, 0, 2, 4, 1, 0, 3, 4, 1, 0, 1, 1, 0, 4, 0, 1, 0, 3, 4, 4, 4, 0, 2, 5, 3, 2, 3, 0, 0, 1, 1, 0, 2, 4, 4, 1, 4, 0, 4, 2, 0, 4, 0, 3, 3, 0, 0, 0, 4, 1, 3, 1, 4, 0, 1, 4, 2, 4, 0, 1, 4, 1, 5, 1, 1, 1, 0, 1, 1, 1, 0, 3, 3, 1, 5, 3, 1, 4, 2, 0, 3, 5, 0, 1, 3, 1, 3, 0, 1, 4, 0, 5, 1, 3, 0, 1, 3, 0, 0, 2, 3, 0, 3, 0, 4, 3, 0, 1, 2, 3, 4, 1, 2, 0, 3, 0, 1, 1, 0, 4, 2, 4, 1, 2, 2, 1, 2, 1, 1, 1, 0, 3, 0, 1, 0, 1, 4, 1, 0, 0, 0, 0, 2, 5, 1, 1, 0, 0, 3, 2, 1, 1, 0, 5, 4, 2, 1, 1, 4, 0, 1, 0, 3, 0, 0, 0, 1, 0, 4, 0, 1, 1, 1, 1, 1, 1, 1, 1, 0, 3, 3, 0, 1, 1, 2, 3, 2, 3, 1, 0, 2, 0, 0, 0, 0, 3, 1, 1, 0, 1, 1, 4, 0, 1, 1, 0, 4, 2, 1, 1, 4, 0, 2, 4, 4, 4, 0, 2, 1, 1, 0, 2, 1, 4, 1, 1, 1, 1, 3, 4, 0, 0, 0, 3, 1, 1, 4, 1, 4, 3, 0, 0, 1, 4, 1, 1, 0, 1, 0, 0, 2, 1, 0, 0, 3, 1, 5, 0, 0, 0, 1, 0, 1, 1, 0, 0, 2, 1, 1, 1, 1, 2, 3, 1, 1, 4, 1, 0, 1, 1, 1, 0, 1, 0, 0, 4, 1, 1, 1, 3, 1, 4, 1, 3, 2, 0, 0, 1, 1, 3, 0, 1, 4, 1, 3, 3, 0, 0, 1, 0, 0, 3, 1, 3, 0, 0, 0, 0, 3, 1, 0, 0, 1, 1, 1, 0, 0, 5, 0, 0, 0, 3, 1, 1, 0, 0, 1, 0, 0, 0, 0, 4, 2, 3, 1, 5, 5, 4, 0, 3, 1, 0, 4, 0, 4, 5, 4, 0, 0, 3, 0, 0, 2, 3, 1, 1, 1, 4, 0, 0, 1, 0, 1, 1, 0, 4, 0, 1, 3, 0, 4, 4, 4, 1, 0, 1, 0, 0, 1, 0, 0, 1, 1, 4, 2, 1, 1, 0, 0, 3, 0, 1, 1, 1, 1, 4, 1, 0, 0, 5, 1, 2, 3, 4, 3, 3, 1, 0, 1, 5, 1, 1, 0, 0, 2, 1, 0, 2, 0, 4, 1, 0, 1, 1, 1, 1, 0, 0, 3, 1, 0, 0, 0, 2, 0, 2, 4, 0, 1, 3, 3, 4, 1, 2, 1, 4, 5, 0, 1, 4, 4, 3, 0, 0, 4, 1, 1, 0, 0, 3, 2, 1, 4, 2, 1, 3, 1, 3, 1, 0, 3, 4, 1, 0, 2, 2, 1, 0, 3, 1, 1, 0, 1, 3, 4, 3, 5, 3, 5, 0, 4, 2, 2, 3, 2, 2, 1, 0, 0, 2, 0, 0, 3, 5, 0, 1, 4, 5, 0, 3, 2, 0, 4, 0, 3, 1, 0, 0, 2, 0, 2, 1, 4, 2, 1, 2, 0, 0, 0, 4, 1, 4, 4, 2, 1, 0, 4, 0, 1, 4, 0, 0, 3, 1, 1, 1, 2, 2, 1, 0, 1, 1, 3, 1, 1, 0, 1, 2, 0, 1, 0, 1, 0, 3, 1, 1, 1, 0, 1, 0, 1, 1, 4, 0, 4, 0, 3, 0, 0, 4, 0, 4, 1, 0, 4, 3, 0, 5, 1, 3, 1, 3, 1, 5, 0, 1, 1, 4, 2, 2, 1, 0, 0, 1, 4, 1, 3, 0, 4, 3, 0, 3, 0, 1, 1, 3, 1, 4, 2, 0, 2, 1, 0, 3, 1, 0, 4, 1, 1, 3, 4, 1, 1, 3, 1, 1, 1, 3, 4, 3, 1, 1, 1, 1, 3, 5, 1, 1, 1, 0, 1, 3, 1, 1, 0, 3, 0, 1, 3, 1, 1, 0, 1, 1, 1, 1, 1, 3, 4, 4, 4, 0, 0, 2, 2, 4, 4, 0, 1, 1, 1, 4, 0, 3, 3, 0, 3, 0, 0, 1, 0, 0, 4, 0, 3, 2, 0, 0, 1, 2, 0, 0, 3, 0, 1, 1, 0, 1, 1, 2, 3, 1, 0, 0, 2, 4, 5, 0, 3, 1, 0, 0, 3, 2, 3, 0, 1, 2, 0, 0, 1, 1, 4, 0, 1, 1, 3, 4, 4, 1, 1, 1, 0, 5, 4, 3, 3, 3, 0, 0, 1, 0, 0, 0, 0, 0, 5, 0, 3, 3, 0, 1, 1, 1, 5, 4, 1, 3, 1, 3, 2, 1, 0, 0, 1, 0, 0, 2, 4, 0, 1, 1, 0, 1, 0, 1, 2, 4, 1, 4, 0, 1, 1, 2, 2, 0, 1, 1, 0, 0, 1, 3, 1, 4, 3, 1, 4, 3, 1, 1, 4, 4, 0, 3, 3, 0, 2, 4, 1, 3, 1, 4, 1, 4, 4, 0, 1, 1, 1, 1, 3, 0, 1, 0, 3, 1, 3, 1, 1, 1, 1, 3, 1, 4, 1, 1, 3, 0, 0, 2, 3, 0, 1, 1, 1, 0, 5, 4, 1, 0, 0, 0, 1, 5, 0, 1, 0, 5, 0, 1, 3, 1, 5, 1, 1, 1, 3, 1, 0, 1, 5, 5, 1, 1, 0, 1, 0, 4, 4, 0, 1, 0, 0, 4, 0, 1, 1, 1, 1, 1, 1, 5, 4, 2, 4, 0, 1, 0, 4, 0, 3, 0, 0, 0, 0, 0, 1, 2, 1, 1, 0, 4, 1, 1, 2, 2, 0, 1, 5, 2, 0, 1, 1, 0, 3, 1, 3, 1, 1, 4, 4, 0, 0, 4, 1, 3, 0, 0, 1, 4, 0, 1, 1, 0, 2, 2, 1, 1, 5, 3, 5, 1, 1, 5, 0, 5, 0, 0, 4, 0, 2, 0, 1, 1, 0, 3, 0, 4, 4, 1, 3, 1, 1, 0, 1, 2, 1, 2, 3, 1, 4, 0, 1, 1, 2, 0, 1, 0, 4, 1, 1, 1, 0, 3, 0, 4, 1, 2, 3, 0, 0, 1, 0, 0, 4, 3, 0, 1, 1, 1, 2, 3, 1, 4, 3, 4, 1, 1, 1, 3, 0, 0, 0, 4, 1, 4, 1, 0, 1, 2, 1, 1, 1, 1, 1, 1, 1, 0, 3, 0, 2, 0, 2, 0, 1, 0, 4, 1, 3, 1, 4, 3, 0, 0, 0, 0, 1, 1, 1, 0, 1, 1, 3, 0, 1, 1, 4, 3, 0, 0, 0, 0, 0, 3, 1, 0, 1, 0, 0, 0, 0, 1, 1, 4, 0, 2, 3, 3, 1, 0, 0, 1, 3, 2, 1, 4, 1, 3, 1, 1, 1, 0, 0, 0, 3, 1, 2, 1, 1, 3, 5, 1, 0, 1, 1, 4, 5, 0, 0, 1, 3, 4, 1, 1, 0, 1, 5, 0, 5, 2, 2, 1, 0, 4, 0, 5, 0, 1, 5, 0, 2, 1, 1, 1, 1, 1, 1, 0, 2, 1, 0, 5, 4, 3, 0, 1, 1, 0, 3, 2, 0, 0, 4, 1, 1, 3, 4, 0, 0, 0, 2, 0, 1, 4, 1, 1, 0, 0, 1, 2, 0, 1, 0, 0, 3, 4, 0, 4, 4, 1, 4, 0, 3, 1, 1, 0, 1, 1, 4, 3, 0, 3, 2, 0, 4, 4, 4, 1, 2, 4, 3, 1, 3, 1, 2, 0, 1, 4, 4, 1, 1, 0, 1, 1, 4, 3, 0, 3, 4, 1, 0, 2, 1, 0, 1, 2, 0, 1, 1, 0, 3, 2, 1, 3, 0, 1, 0, 1, 0, 1, 0, 5, 3, 1, 1, 1, 3, 0, 2, 0, 4, 1, 0, 1, 4, 1, 1, 4, 4, 3, 0, 1, 3, 1, 0, 0, 0, 1, 1, 1, 2, 1, 4, 1, 0, 2, 1, 4, 0, 1, 0, 4, 2, 3, 0, 1, 1, 0, 1, 0, 1, 1, 0, 0, 1, 1, 1, 0, 1, 0, 0, 0, 1, 0, 1, 1, 4, 0, 0, 1, 3, 0, 5, 2, 0, 4, 5, 0, 3, 1, 4, 3, 0, 3, 1, 4, 1, 1, 2, 1, 0, 0, 1, 1, 4, 1, 1, 0, 3, 3, 3, 1, 2, 0, 4, 5, 0, 3, 1, 1, 0, 1, 0, 1, 1, 1, 4, 3, 1, 1, 1, 5, 4, 4, 0, 1, 2, 2, 1, 4, 0, 0, 0, 0, 1, 0, 1, 0, 3, 0, 2, 1, 2, 4, 0, 0, 1, 1, 2, 0, 1, 2, 4, 1, 0, 1, 1, 1, 4, 0, 1, 0, 1, 1, 4, 0, 2, 0, 1, 4, 2, 0, 0, 0, 2, 2, 3, 1, 4, 1, 1, 3, 1, 5, 0, 1, 2, 4, 0, 3, 3, 0, 0, 1, 0, 0, 2, 0, 0, 1, 0, 1, 4, 1, 1, 3, 1, 0, 1, 3, 5, 0, 1, 3, 1, 0, 4, 0, 0, 3, 0, 3, 1, 1, 1, 3, 4, 4, 0, 1, 3, 1, 2, 0, 0, 1, 1, 3, 0, 0, 1, 0, 0, 1, 0, 0, 1, 0, 0, 4, 0, 1, 0, 2, 1, 5, 3, 0, 1, 0, 5, 3, 4, 3, 0, 2, 0, 3, 1, 1, 4, 2, 4, 5, 0, 4, 0, 1, 0, 1, 1, 5, 3, 0, 3, 1, 3, 0, 0, 1, 0, 5, 2, 3, 0, 4, 1, 1, 0, 0, 0, 1, 1, 0, 0, 4, 4, 4, 0, 3, 3, 0, 3, 0, 0, 0, 0, 1, 0, 5, 1, 3, 2, 0, 3, 3, 1, 1, 3, 1, 0, 3, 0, 3, 0, 3, 1, 5, 5, 0, 0, 4, 3, 4, 1, 1, 1, 1, 1, 5, 1, 3, 0, 1, 4, 1, 1, 1, 0, 4, 0, 0, 1, 1, 3, 0, 1, 1, 3, 1, 0, 1, 0, 1, 2, 3, 2, 0, 2, 3, 3, 3, 4, 4, 2, 1, 3, 1, 0, 1, 0, 3, 2, 0, 0, 0, 1, 2, 3, 5, 5, 2, 0, 3, 0, 1, 0, 0, 0, 0, 2, 1, 0, 3, 1, 1, 0, 0, 1, 3, 4, 0, 2, 2, 3, 1, 0, 5, 5, 3, 1, 1, 5, 1, 2, 3, 1, 0, 3, 1, 1, 2, 1, 0, 1, 1, 2, 1, 0, 3, 4, 1, 1, 1, 3, 5, 4, 3, 4, 4, 3, 1, 3, 1, 1, 1, 0, 3, 4, 1, 1, 1, 0, 1, 1, 4, 0, 1, 1, 3, 5, 1, 3, 5, 0, 5, 0, 0, 1, 0, 1, 5, 4, 0, 1, 5, 0, 0, 1, 1, 1, 1, 1, 3, 1, 1, 2, 0, 1, 1, 1, 0, 1, 1, 0, 1, 0, 0, 0, 0, 0, 1, 0, 2, 1, 2, 0, 2, 5, 3, 2, 4, 0, 1, 0, 4, 4, 4, 0, 0, 0, 4, 0, 0, 5, 2, 1, 4, 3, 1, 0, 1, 1, 4, 3, 3, 2, 1, 0, 0, 0, 5, 1, 1, 1, 3, 3, 1, 3, 1, 4, 0, 0, 0, 0, 4, 0, 0, 4, 4, 3, 0, 0, 1, 0, 1, 4, 1, 0, 0, 4, 0, 1, 2, 0, 0, 1, 1, 1, 3, 1, 0, 0, 1, 4, 5, 1, 0, 0, 0, 0, 1, 4, 1, 3, 0, 0, 1, 1, 0, 3, 4, 1, 3, 4, 3, 1, 1, 1, 1, 0, 3, 0, 0, 1, 3, 3, 3, 3, 1, 1, 3, 1, 4, 1, 3, 1, 0, 1, 0, 5, 4, 1, 5, 4, 0, 2, 1, 1, 4, 2, 1, 5, 5, 1, 0, 1, 0, 0, 3, 0, 1, 1, 0, 5, 1, 2, 3, 1, 3, 1, 0, 1, 0, 1, 1, 3, 0, 2, 0, 3, 1, 1, 0, 0, 0, 0, 4, 0, 0, 1, 1, 4, 0, 1, 5, 2, 0, 2, 5, 0, 0, 1, 4, 1, 1, 1, 2, 0, 0, 5, 4, 1, 0, 1, 4, 1, 0, 1, 0, 2, 4, 4, 0, 1, 3, 3, 0, 3, 1, 1, 1, 1, 0, 1, 4, 0, 3, 3, 0, 4, 0, 1, 1, 1, 1, 1, 4, 1, 4, 5, 5, 0, 0, 1, 1, 0, 4, 2, 1, 0, 5, 4, 1, 0, 0, 0, 1, 1, 0, 2, 2, 2, 1, 5, 2, 1, 1, 0, 5, 1, 0, 1, 1, 0, 1, 3, 1, 0, 0, 4, 0, 4, 1, 1, 4, 0, 0, 3, 3, 0, 0, 1, 4, 0, 1, 0, 0, 2, 3, 4, 0, 1, 1, 1, 1, 1, 1, 0, 0, 3, 1, 0, 0, 1, 3, 5, 5, 0, 1, 1, 0, 4, 0, 3, 1, 1, 0, 0, 5, 2, 1, 2, 1, 1, 0, 3, 2, 0, 3, 0, 4, 0, 3, 1, 2, 1, 0, 1, 5, 1, 1, 1, 4, 1, 0, 0, 5, 2, 3, 0, 0, 0, 4, 3, 0, 4, 3, 4, 0, 3, 0, 1, 5, 0, 1, 1, 2, 0, 0, 3, 3, 2, 0, 0, 1, 2, 1, 1, 1, 1, 0, 0, 1, 1, 1, 4, 3, 4, 1, 1, 1, 0, 0, 5, 0, 0, 1, 2, 3, 2, 1, 0, 4, 3, 3, 0, 4, 1, 1, 0, 1, 1, 3, 5, 0, 1, 0, 0, 0, 1, 1, 4, 0, 0, 0, 1, 4, 1, 1, 4, 1, 0, 0, 4, 1, 1, 0, 1, 0, 1, 0, 4, 0, 0, 2, 0, 1, 4, 3, 4, 4, 1, 2, 1, 5, 1, 1, 2, 0, 0, 4, 1, 1, 1, 3, 3, 0, 3, 1, 1, 2, 4, 1, 0, 2, 2, 0, 4, 1, 1, 5, 0, 1, 2, 2, 1, 2, 1, 0, 3, 1, 4, 1, 3, 5, 1, 4, 0, 0, 3, 0, 4, 2, 0, 1, 0, 5, 1, 0, 0, 2, 0, 3, 2, 0, 1, 1, 1, 4, 1, 1, 1, 1, 3, 1, 4, 3, 0, 0, 3, 3, 0, 2, 1, 1, 3, 1, 0, 1, 3, 0, 2, 3, 1, 1, 1, 3, 0, 1, 0, 0, 0, 0, 0, 1, 5, 4, 4, 3, 1, 0, 3, 0, 5, 1, 1, 2, 4, 3, 0, 2, 0, 0, 5, 1, 1, 1, 1, 0, 0, 1, 4, 3, 3, 4, 1, 5, 0, 4, 1, 1, 4, 1, 1, 0, 4, 3, 3, 1, 0, 0, 5, 1, 3, 1, 2, 1, 4, 3, 4, 4, 1, 0, 0, 3, 1, 4, 4, 3, 4, 4, 1, 1, 3, 5, 2, 0, 0, 1, 1, 1, 0, 4, 2, 3, 1, 5, 1, 4, 2, 4, 3, 0, 1, 0, 1, 0, 5, 2, 1, 3, 3, 4, 3, 0, 1, 3, 1, 1, 3, 4, 1, 0, 5, 1, 1, 0, 1, 0, 0, 0, 3, 3, 3, 1, 0, 0, 1, 0, 4, 1, 3, 4, 1, 5, 0, 3, 0, 1, 4, 0, 4, 3, 0, 1, 4, 1, 1, 4, 2, 0, 0, 4, 4, 1, 1, 1, 3, 0, 1, 2, 0, 0, 3, 0, 0, 2, 2, 0, 3, 1, 3, 3, 3, 1, 2, 0, 2, 1, 2, 1, 2, 2, 0, 2, 1, 0, 2, 1, 0, 2, 1, 0, 4, 1, 0, 4, 1, 1, 3, 4, 0, 1, 1, 4, 4, 2, 0, 1, 1, 4, 0, 1, 3, 1, 3, 3, 0, 3, 0, 4, 4, 5, 4, 1, 3, 5, 0, 0, 0, 1, 2, 2, 3, 1, 0, 3, 0, 3, 1, 4, 0, 0, 3, 1, 1, 2, 1, 3, 4, 3, 0, 0, 0, 0, 1, 2, 1, 2, 0, 1, 1, 2, 0, 0, 0, 1, 0, 0, 0, 2, 0, 0, 0, 1, 0, 3, 3, 1, 0, 1, 1, 0, 4, 1, 4, 0, 2, 0, 0, 1, 5, 0, 1, 4, 0, 4, 1, 1, 1, 4, 3, 0, 0, 1, 1, 3, 1, 1, 4, 1, 1, 1, 0, 0, 0, 3, 1, 3, 1, 0, 4, 3, 2, 4, 3, 1, 5, 3, 4, 3, 0, 0, 0, 1, 2, 0, 1, 1, 2, 0, 0, 3, 1, 0, 0, 0, 1, 2, 1, 1, 2, 1, 0, 1, 4, 0, 1, 4, 3, 1, 0, 3, 4, 1, 5, 0, 4, 4, 4, 0, 0, 1, 1, 0, 0, 4, 0, 1, 0, 1, 1, 1, 2, 5, 1, 0, 0, 2, 0, 1, 1, 1, 1, 3, 1, 0, 1, 0, 4, 5, 0, 1, 1, 4, 0, 3, 1, 1, 1, 2, 5, 1, 1, 2, 1, 2, 2, 0, 0, 2, 5, 3, 0, 0, 0, 1, 3, 1, 1, 1, 3, 0, 1, 0, 1, 4, 1, 1, 4, 4, 0, 1, 3, 3, 1, 2, 1, 0, 3, 1, 5, 0, 4, 1, 1, 1, 0, 2, 0, 1, 4, 5, 0, 1, 3, 1, 4, 1, 0, 3, 2, 4, 1, 3, 5, 1, 1, 4, 4, 0, 1, 0, 1, 1, 3, 1, 1, 0, 1, 1, 2, 0, 2, 1, 0, 0, 2, 1, 4, 1, 1, 0, 3, 1, 0, 1, 0, 0, 1, 1, 0, 3, 1, 0, 0, 4, 4, 2, 1, 1, 1, 4, 0, 2, 4, 2, 1, 1, 0, 0, 5, 1, 0, 3, 0, 5, 0, 1, 4, 2, 0, 3, 1, 1, 0, 2, 2, 0, 4, 4, 1, 0, 0, 4, 1, 0, 0, 3, 0, 0, 3, 1, 4, 0, 3, 0, 0, 2, 1, 1, 2, 0, 3, 0, 1, 3, 0, 4, 1, 3, 0, 1, 4, 0, 1, 4, 0, 1, 1, 3, 0, 3, 4, 3, 0, 5, 3, 4, 4, 1, 3, 1, 1, 0, 4, 1, 1, 1, 0, 3, 4, 1, 3, 1, 0, 2, 4, 4, 4, 3, 3, 0, 3, 4, 1, 1, 0, 2, 0, 1, 1, 1, 4, 2, 0, 4, 0, 4, 0, 0, 1, 4, 1, 3, 1, 0, 1, 1, 1, 5, 0, 5, 4, 0, 0, 2, 0, 2, 4, 2, 1, 1, 3, 1, 1, 3, 0, 4, 3, 0, 0, 3, 3, 0, 0, 3, 2, 1, 0, 1, 3, 2, 0, 3, 4, 1, 0, 1, 3, 1, 1, 4, 0, 1, 0, 1, 4, 0, 0, 1, 5, 1, 3, 5, 5, 1, 1, 0, 0, 3, 4, 1, 0, 2, 4, 0, 0, 1, 2, 4, 3, 1, 4, 0, 4, 5, 0, 0, 1, 0, 4, 3, 2, 0, 4, 1, 1, 2, 0, 3, 4, 0, 0, 4, 1, 0, 0, 4, 1, 0, 0, 1, 0, 0, 3, 0, 1, 3, 4, 0, 1, 0, 1, 1, 4, 3, 1, 5, 3, 0, 1, 4, 0, 2, 2, 0, 5, 1, 4, 2, 3, 5, 0, 3, 3, 1, 1, 4, 1, 1, 3, 0, 0, 1, 3, 0, 1, 0, 2, 3, 4, 0, 1, 4, 3, 1, 1, 1, 0, 1, 1, 1, 1, 3, 1, 0, 1, 0, 1, 0, 0, 0, 0, 4, 3, 1, 1, 3, 2, 0, 4, 1, 1, 1, 4, 0, 0, 2, 0, 0, 4, 0, 1, 3, 4, 1, 0, 0, 3, 1, 1, 4, 0, 4, 4, 0, 3, 1, 3, 4, 4, 1, 1, 1, 4, 0, 1, 1, 3, 0, 1, 0, 5, 3, 1, 4, 3, 0, 3, 4, 0, 2, 4, 0, 2, 2, 4, 3, 1, 1, 0, 1, 2, 0, 2, 5, 0, 3, 2, 1, 0, 4, 5, 1, 0, 2, 1, 0, 0, 1, 1, 4, 3, 1, 0, 1, 0, 2, 1, 4, 0, 1, 0, 0, 5, 5, 0, 0, 1, 1, 3, 0, 0, 3, 0, 4, 4, 1, 1, 0, 1, 0, 3, 0, 2, 0, 1, 0, 3, 1, 1, 3, 1, 1, 3, 1, 2, 3, 1, 3, 0, 4, 0, 2, 0, 4, 3, 3, 3, 0, 1, 0, 1, 1, 5, 0, 2, 0, 1, 4, 2, 1, 3, 5, 1, 5, 3, 1, 0, 3, 1, 2, 3, 1, 3, 0, 2, 0, 1, 0, 0, 0, 3, 0, 0, 1, 1, 1, 2, 0, 4, 0, 4, 0, 1, 1, 0, 0, 1, 0, 4, 0, 1, 4, 4, 0, 1, 0, 0, 0, 3, 1, 1, 3, 0, 0, 0, 3, 0, 1, 0, 1, 0, 2, 3, 0, 5, 0, 1, 1, 3, 3, 0, 4, 4, 0, 0, 1, 2, 3, 1, 1, 1, 2, 2, 0, 3, 4, 1, 5, 4, 1, 0, 1, 3, 3, 0, 3, 0, 4, 0, 0, 0, 2, 5, 1, 3, 1, 1, 2, 3, 1, 0, 0, 4, 1, 4, 3, 1, 3, 3, 3, 1, 2, 1, 1, 3, 3, 0, 4, 1, 4, 0, 1, 3, 1, 4, 3, 1, 0, 3, 1, 3, 1, 0, 2, 1, 1, 3, 0, 2, 1, 3, 1, 0, 1, 4, 3, 1, 0, 1, 0, 1, 0, 5, 1, 3, 0, 4, 1, 3, 1, 1, 1, 0, 1, 0, 3, 0, 0, 1, 3, 0, 0, 1, 1, 4, 1, 5, 3, 3, 1, 1, 4, 4, 1, 1, 4, 3, 3, 1, 0, 4, 1, 2, 4, 0, 4, 4, 5, 0, 1, 4, 1, 0, 0, 1, 4, 3, 0, 3, 1, 1, 1, 0, 1, 1, 1, 3, 2, 2, 0, 2, 3, 0, 3, 0, 3, 1, 0, 1, 4, 4, 4, 2, 0, 3, 0, 4, 0, 4, 0, 2, 1, 1, 5, 1, 4, 2, 1, 1, 0, 4, 1, 2, 4, 3, 1, 3, 1, 1, 0, 1, 2, 0, 3, 1, 4, 0, 0, 1, 1, 1, 1, 1, 0, 0, 1, 2, 5, 1, 1, 4, 1, 2, 0, 2, 0, 4, 0, 1, 0, 0, 1, 0, 0, 1, 5, 1, 1, 3, 3, 1, 0, 0, 1, 1, 1, 0, 1, 0, 1, 0, 0, 1, 0, 0, 1, 4, 0, 0, 0, 1, 3, 0, 4, 3, 0, 1, 0, 0, 1, 1, 1, 1, 0, 0, 2, 2, 0, 1, 2, 3, 5, 1, 0, 0, 4, 0, 0, 4, 0, 3, 1, 3, 1, 5, 0, 0, 0, 4, 3, 1, 3, 3, 1, 0, 1, 0, 1, 3, 0, 4, 3, 2, 0, 1, 3, 4, 1, 0, 2, 1, 2, 0, 1, 3, 3, 0, 4, 0, 4, 3, 1, 5, 3, 4, 4, 1, 3, 1, 1, 4, 5, 4, 1, 1, 3, 1, 1, 2, 0, 0, 3, 1, 0, 0, 2, 2, 4, 0, 0, 1, 1, 1, 3, 0, 1, 3, 1, 1, 0, 3, 0, 1, 1, 3, 1, 1, 3, 0, 3, 0, 4, 0, 1, 2, 0, 3, 0, 1, 2, 1, 1, 1, 1, 3, 0, 1, 0, 2, 1, 1, 3, 1, 1, 1, 1, 3, 4, 0, 0, 0, 2, 2, 3, 0, 4, 3, 1, 2, 0, 3, 2, 0, 3, 4, 0, 4, 1, 1, 5, 1, 1, 2, 0, 0, 4, 2, 1, 5, 0, 5, 1, 0, 1, 3, 0, 1, 3, 0, 3, 5, 0, 0, 3, 1, 0, 4, 3, 4, 1, 0, 1, 5, 2, 0, 2, 1, 5, 1, 3, 1, 3, 5, 0, 1, 1, 1, 4, 1, 1, 1, 1, 0, 1, 1, 0, 1, 1, 5, 1, 1, 5, 4, 1, 1, 4, 1, 1, 5, 0, 0, 2, 1, 3, 3, 4, 1, 0, 0, 2, 1, 0, 1, 1, 5, 1, 0, 0, 1, 0, 0, 0, 0, 3, 2, 0, 1, 1, 1, 1, 3, 2, 0, 4, 2, 2, 1, 1, 1, 1, 3, 0, 1, 3, 0, 4, 3, 1, 4, 0, 1, 1, 1, 0, 1, 1, 1, 0, 1, 4, 1, 0, 4, 4, 2, 4, 2, 1, 2, 4, 3, 0, 0, 3, 4, 1, 1, 0, 0, 5, 1, 4, 0, 3, 1, 3, 3, 0, 0, 0, 1, 4, 0, 0, 0, 0, 1, 1, 1, 0, 3, 3, 1, 1, 0, 1, 3, 0, 4, 2, 0, 3, 1, 5, 1, 1, 1, 1, 2, 2, 0, 1, 1, 2, 0, 1, 0, 0, 0, 1, 1, 1, 1, 1, 1, 0, 1, 0, 2, 2, 0, 0, 4, 0, 3, 1, 0, 3, 1, 0, 1, 0, 1, 0, 0, 3, 3, 3, 0, 4, 0, 3, 0, 4, 4, 0, 4, 0, 1, 0, 1, 1, 1, 4, 2, 1, 1, 4, 0, 1, 0, 4, 0, 0, 3, 4, 1, 1, 1, 2, 3, 4, 0, 1, 4, 1, 2, 2, 0, 2, 3, 0, 0, 0, 5, 1, 3, 1, 0, 4, 3, 1, 5, 1, 1, 1, 1, 0, 1, 0, 0, 2, 0, 2, 0, 0, 1, 1, 3, 3, 0, 4, 3, 1, 0, 1, 3, 2, 1, 4, 1, 1, 1, 3, 3, 4, 5, 1, 3, 3, 1, 4, 0, 4, 2, 0, 2, 1, 1, 4, 0, 3, 1, 0, 4, 1, 0, 1, 4, 1, 3, 1, 1, 1, 5, 1, 3, 0, 4, 0, 0, 1, 1, 0, 3, 0, 1, 5, 1, 1, 0, 1, 1, 1, 0, 1, 0, 0, 3, 3, 3, 3, 3, 0, 3, 0, 1, 3, 2, 3, 1, 1, 2, 2, 2, 0, 0, 0, 2, 1, 0, 3, 1, 2, 1, 1, 2, 2, 1, 0, 4, 1, 0, 1, 3, 0, 1, 1, 3, 4, 4, 3, 2, 0, 4, 4, 1, 0, 2, 0, 1, 1, 0, 3, 0, 1, 2, 0, 1, 1, 3, 0, 3, 1, 1, 1, 1, 2, 0, 1, 4, 1, 0, 2, 0, 0, 1, 0, 1, 1, 0, 4, 1, 4, 0, 0, 0, 1, 0, 4, 5, 0, 1, 0, 3, 0, 2, 0, 1, 1, 0, 3, 0, 2, 0, 1, 0, 1, 3, 0, 1, 1, 0, 0, 3, 1, 5, 4, 0, 3, 0, 1, 0, 3, 3, 5, 3, 1, 3, 0, 2, 1, 0, 1, 4, 0, 1, 3, 3, 0, 1, 3, 1, 0, 1, 1, 1, 2, 1, 2, 1, 1, 1, 3, 1, 1, 3, 1, 3, 1, 1, 1, 1, 3, 0, 1, 0, 0, 1, 0, 1, 0, 4, 1, 4, 0, 0, 4, 5, 3, 5, 0, 1, 3, 1, 5, 0, 3, 0, 2, 0, 0, 3, 1, 0, 0, 0, 4, 3, 1, 5, 1, 5, 1, 3, 2, 0, 3, 4, 1, 2, 0, 1, 1, 1, 1, 3, 0, 3, 1, 1, 3, 0, 0, 3, 1, 0, 3, 3, 1, 0, 0, 0, 1, 4, 3, 0, 2, 1, 5, 4, 4, 0, 2, 1, 0, 4, 2, 1, 4, 1, 0, 4, 1, 1, 4, 1, 1, 1, 0, 0, 0, 1, 4, 3, 0, 0, 2, 0, 5, 5, 2, 1, 2, 0, 0, 3, 1, 1, 0, 4, 1, 0, 1, 0, 4, 3, 4, 4, 1, 0, 1, 3, 3, 1, 1, 2, 1, 1, 1, 1, 4, 1, 0, 0, 1, 1, 2, 1, 1, 0, 3, 1, 1, 0, 1, 1, 1, 1, 5, 0, 1, 2, 3, 1, 1, 2, 2, 0, 1, 1, 0, 5, 0, 1, 0, 2, 3, 4, 0, 3, 1, 2, 0, 0, 0, 4, 0, 0, 2, 0, 1, 1, 4, 1, 0, 1, 0, 1, 1, 4, 0, 0, 0, 0, 3, 0, 1, 5, 4, 0, 3, 2, 3, 0, 4, 5, 0, 1, 4, 1, 0, 0, 2, 3, 1, 1, 3, 5, 2, 1, 1, 1, 1, 4, 1, 1, 0, 1, 2, 0, 2, 0, 4, 4, 1, 0, 0, 5, 0, 3, 0, 0, 1, 2, 4, 0, 0, 0, 3, 1, 3, 4, 0, 0, 4, 0, 3, 0, 0, 3, 2, 4, 2, 5, 0, 3, 1, 1, 0, 2, 0, 0, 3, 1, 0, 1, 1, 2, 3, 1, 0, 2, 3, 0, 0, 0, 1, 1, 1, 1, 3, 1, 0, 3, 1, 0, 0, 0, 3, 2, 4, 4, 4, 0, 0, 0, 4, 0, 1, 0, 5, 2, 0, 0, 3, 2, 5, 0, 4, 3, 0, 1, 1, 1, 1, 3, 2, 2, 1, 1, 1, 3, 4, 0, 0, 0, 4, 1, 5, 1, 1, 1, 1, 0, 0, 0, 4, 0, 1, 1, 1, 0, 0, 1, 1, 0, 2, 1, 0, 2, 1, 1, 4, 0, 2, 3, 1, 2, 3, 1, 2, 3, 3, 2, 0, 3, 2, 0, 1, 1, 2, 0, 4, 1, 0, 1, 1, 0, 0, 1, 5, 0, 2, 1, 5, 0, 4, 5, 0, 1, 2, 0, 1, 2, 1, 1, 3, 1, 1, 0, 1, 0, 3, 1, 1, 3, 1, 1, 1, 1, 1, 4, 2, 1, 1, 3, 1, 1, 0, 0, 1, 5, 4, 0, 4, 0, 0, 4, 0, 2, 4, 1, 1, 1, 0, 3, 3, 0, 1, 4, 0, 1, 0, 1, 0, 3, 4, 1, 0, 3, 4, 0, 1, 1, 0, 0, 0, 3, 3, 4, 0, 1, 1, 1, 3, 3, 2, 4, 3, 0, 1, 5, 1, 4, 1, 1, 1, 0, 1, 1, 1, 0, 0, 4, 0, 1, 1, 0, 1, 1, 2, 1, 3, 3, 4, 1, 0, 4, 1, 1, 3, 0, 2, 1, 1, 2, 1, 0, 1, 1, 1, 0, 1, 5, 1, 0, 2, 0, 0, 3, 0, 1, 2, 2, 1, 1, 1, 0, 1, 1, 3, 0, 1, 3, 0, 1, 4, 3, 1, 2, 2, 1, 2, 1, 1, 1, 1, 3, 1, 4, 3, 4, 1, 3, 4, 0, 1, 0, 4, 0, 0, 1, 1, 1, 1, 1, 0, 3, 1, 1, 5, 0, 0, 1, 1, 0, 0, 1, 1, 3, 1, 1, 0, 0, 0, 4, 4, 0, 5, 1, 1, 1, 4, 1, 0, 1, 1, 0, 0, 4, 3, 0, 1, 4, 3, 1, 1, 0, 1, 2, 0, 4, 3, 4, 2, 1, 3, 0, 1, 5, 3, 0, 3, 1, 0, 1, 0, 4, 0, 1, 0, 1, 5, 0, 3, 0, 1, 1, 1, 1, 1, 1, 0, 1, 4, 2, 1, 0, 1, 0, 1, 1, 1, 4, 0, 3, 4, 3, 1, 3, 0, 2, 0, 0, 4, 1, 1, 0, 1, 5, 3, 1, 0, 0, 2, 0, 0, 1, 0, 1, 3, 0, 4, 0, 0, 3, 3, 1, 4, 1, 0, 4, 4, 1, 0, 3, 3, 0, 2, 3, 3, 0, 0, 1, 5, 3, 0, 5, 4, 3, 3, 3, 0, 0, 3, 2, 0, 4, 0, 1, 4, 0, 1, 3, 1, 2, 1, 1, 0, 1, 4, 0, 0, 0, 1, 1, 1, 1, 1, 4, 0, 4, 0, 2, 3, 1, 1, 3, 1, 3, 1, 0, 0, 0, 5, 4, 2, 0, 1, 2, 5, 0, 4, 1, 2, 0, 3, 0, 1, 0, 0, 1, 4, 0, 0, 2, 1, 1, 1, 1, 0, 2, 4, 2, 0, 4, 0, 0, 0, 3, 0, 4, 1, 0, 0, 1, 1, 0, 1, 4, 0, 1, 0, 0, 2, 0, 1, 1, 3, 0, 0, 1, 1, 4, 0, 1, 1, 1, 4, 0, 0, 0, 1, 1, 4, 0, 1, 4, 3, 1, 1, 1, 0, 5, 3, 1, 1, 0, 4, 2, 1, 4, 1, 3, 0, 0, 1, 4, 4, 3, 0, 4, 0, 0, 4, 4, 1, 2, 3, 4, 1, 1, 4, 2, 2, 0, 1, 5, 1, 0, 3, 2, 0, 1, 1, 1, 1, 1, 1, 1, 0, 0, 3, 0, 4, 3, 0, 3, 2, 4, 1, 0, 1, 0, 2, 1, 3, 2, 4, 3, 1, 4, 0, 2, 0, 0, 0, 1, 0, 1, 1, 3, 1, 3, 1, 3, 0, 3, 4, 5, 1, 1, 1, 3, 1, 1, 4, 5, 0, 4, 1, 1, 3, 4, 1, 2, 0, 1, 4, 1, 5, 1, 0, 1, 5, 3, 0, 3, 0, 1, 1, 1, 1, 1, 2, 2, 3, 1, 2, 2, 2, 4, 0, 0, 1, 0, 0, 1, 0, 1, 0, 3, 1, 0, 1, 1, 0, 1, 1, 3, 2, 1, 1, 1, 4, 0, 3, 3, 0, 1, 0, 1, 1, 0, 1, 3, 0, 0, 0, 1, 2, 3, 1, 1, 1, 1, 0, 4, 1, 1, 1, 0, 0, 1, 1, 0, 1, 1, 0, 0, 1, 1, 1, 3, 4, 1, 1, 1, 0, 0, 1, 0, 1, 1, 1, 2, 2, 0, 0, 1, 2, 4, 1, 1, 0, 1, 0, 1, 1, 1, 1, 3, 1, 0, 1, 0, 1, 0, 3, 1, 1, 0, 2, 4, 4, 4, 0, 4, 1, 0, 1, 2, 4, 2, 4, 3, 0, 1, 2, 0, 0, 1, 3, 5, 0, 0, 3, 1, 1, 4, 1, 0, 1, 1, 0, 1, 3, 0, 1, 0, 1, 1, 0, 0, 1, 1, 0, 1, 0, 0, 2, 0, 1, 0, 1, 2, 0, 2, 2, 0, 0, 2, 0, 4, 3, 1, 1, 3, 3, 1, 1, 3, 1, 0, 1, 1, 2, 1, 2, 5, 0, 0, 1, 0, 1, 0, 3, 1, 4, 1, 4, 4, 4, 1, 0, 3, 0, 5, 0, 0, 1, 1, 0, 0, 1, 4, 0, 3, 2, 3, 3, 3, 0, 1, 0, 5, 3, 0, 0, 0, 0, 0, 2, 0, 3, 1, 1, 0, 1, 2, 1, 3, 2, 1, 1, 1, 5, 1, 1, 0, 1, 4, 1, 5, 1, 1, 4, 1, 3, 4, 0, 3, 0, 2, 1, 3, 1, 3, 4, 2, 0, 0, 2, 4, 0, 0, 3, 0, 3, 1, 1, 0, 1, 0, 3, 1, 0, 5, 3, 3, 1, 1, 0, 0, 0, 0, 1, 3, 0, 1, 0, 0, 4, 3, 3, 2, 0, 0, 0, 4, 1, 4, 1, 5, 1, 0, 0, 4, 0, 2, 0, 1, 0, 3, 0, 1, 3, 2, 1, 1, 0, 0, 1, 0, 3, 1, 0, 0, 0, 3, 2, 3, 3, 0, 1, 2, 0, 1, 4, 1, 1, 2, 0, 2, 1, 1, 3, 5, 1, 0, 4, 0, 0, 4, 4, 1, 0, 0, 0, 0, 0, 3, 4, 0, 4, 0, 1, 1, 0, 4, 4, 1, 3, 3, 4, 1, 1, 0, 1, 1, 0, 0, 2, 0, 1, 4, 3, 4, 3, 1, 4, 0, 3, 0, 0, 1, 0, 3, 1, 1, 0, 0, 0, 4, 1, 0, 1, 0, 0, 0, 0, 2, 4, 0, 5, 2, 4, 4, 1, 0, 1, 0, 3, 1, 5, 4, 4, 0, 1, 0, 0, 3, 0, 4, 4, 1, 1, 0, 3, 1, 4, 3, 1, 1, 1, 4, 1, 1, 1, 4, 0, 3, 1, 4, 0, 3, 1, 1, 0, 0, 2, 1, 3, 3, 0, 1, 4, 1, 1, 1, 1, 4, 0, 1, 2, 1, 1, 2, 0, 1, 4, 1, 0, 1, 3, 0, 0, 1, 1, 1, 1, 4, 0, 0, 1, 3, 0, 1, 1, 0, 1, 0, 0, 1, 1, 3, 1, 4, 0, 0, 2, 1, 3, 0, 3, 4, 4, 1, 0, 0, 0, 0, 1, 1, 3, 0, 4, 2, 5, 0, 4, 3, 4, 0, 2, 0, 0, 4, 1, 2, 0, 0, 2, 5, 0, 2, 1, 1, 2, 0, 2, 1, 1, 1, 0, 1, 1, 0, 0, 0, 1, 2, 1, 2, 1, 4, 1, 4, 1, 1, 1, 0, 0, 4, 1, 1, 0, 1, 1, 0, 1, 3, 4, 0, 0, 0, 0, 4, 1, 1, 2, 4, 1, 1, 0, 4, 5, 1, 0, 0, 0, 1, 0, 2, 2, 4, 1, 4, 3, 3, 4, 3, 3, 1, 0, 0, 2, 1, 1, 2, 1, 2, 0, 5, 1, 0, 1, 3, 0, 4, 0, 4, 1, 4, 1, 3, 4, 4, 0, 0, 1, 3, 3, 1, 1, 1, 0, 1, 4, 1, 0, 0, 0, 1, 2, 3, 1, 3, 1, 3, 1, 4, 1, 3, 3, 1, 4, 0, 1, 4, 0, 4, 1, 1, 1, 1, 1, 0, 3, 0, 1, 3, 3, 1, 1, 0, 0, 4, 1, 4, 1, 0, 0, 2, 1, 1, 4, 4, 0, 1, 4, 1, 0, 2, 3, 1, 0, 2, 2, 1, 1, 4, 4, 0, 1, 1, 0, 3, 4, 0, 4, 1, 5, 0, 0, 4, 0, 1, 0, 3, 0, 4, 1, 4, 0, 2, 0, 0, 1, 1, 1, 0, 1, 0, 5, 0, 3, 1, 0, 1, 1, 0, 3, 2, 3, 4, 1, 0, 1, 4, 2, 0, 1, 0, 0, 1, 4, 0, 2, 0, 0, 1, 2, 0, 2, 1, 4, 3, 4, 0, 4, 4, 0, 0, 4, 1, 1, 1, 3, 2, 4, 0, 1, 0, 3, 0, 1, 2, 1, 0, 1, 0, 0, 0, 0, 1, 3, 2, 0, 1, 0, 2, 1, 1, 1, 0, 4, 1, 0, 1, 1, 5, 1, 4, 4, 3, 4, 0, 0, 0, 4, 0, 3, 1, 3, 0, 0, 3, 4, 3, 4, 2, 3, 2, 1, 4, 3, 1, 2, 1, 0, 2, 1, 2, 4, 1, 4, 4, 0, 0, 1, 2, 0, 1, 0, 0, 2, 0, 0, 4, 1, 0, 1, 3, 1, 4, 0, 1, 1, 2, 5, 1, 3, 2, 3, 0, 1, 1, 1, 2, 0, 2, 1, 0, 1, 1, 3, 3, 1, 0, 4, 0, 1, 4, 1, 3, 0, 1, 1, 1, 4, 4, 0, 1, 0, 0, 1, 1, 0, 1, 4, 3, 1, 0, 4, 1, 0, 2, 3, 0, 1, 5, 1, 1, 4, 3, 4, 4, 3, 1, 3, 3, 5, 3, 4, 0, 1, 1, 1, 0, 2, 0, 1, 0, 1, 4, 0, 1, 4, 3, 1, 3, 0, 1, 3, 1, 0, 4, 1, 1, 0, 0, 3, 2, 0, 0, 1, 1, 3, 2, 3, 0, 0, 1, 0, 5, 5, 0, 4, 1, 1, 1, 4, 0, 1, 4, 0, 1, 4, 1, 1, 0, 4, 1, 3, 4, 0, 1, 3, 0, 1, 0, 0, 0, 0, 0, 2, 0, 3, 4, 0, 1, 0, 0, 2, 4, 3, 3, 1, 4, 1, 1, 0, 0, 0, 0, 0, 3, 4, 0, 2, 1, 0, 1, 1, 4, 4, 1, 0, 2, 0, 0, 2, 4, 3, 3, 1, 0, 0, 1, 3, 1, 0, 0, 0, 0, 4, 0, 3, 1, 1, 3, 3, 2, 1, 4, 1, 0, 0, 5, 1, 1, 1, 0, 1, 0, 3, 3, 1, 0, 0, 0, 1, 0, 2, 1, 5, 0, 0, 1, 3, 0, 0, 4, 4, 0, 0, 1, 1, 1, 2, 2, 2, 1, 4, 4, 1, 0, 3, 1, 1, 3, 3, 3, 0, 2, 1, 0, 5, 0, 0, 0, 0, 0, 3, 0, 3, 2, 3, 1, 3, 4, 4, 0, 4, 4, 1, 3, 1, 1, 0, 0, 1, 0, 0, 4, 0, 1, 1, 5, 0, 2, 0, 2, 1, 0, 1, 3, 1, 3, 4, 1, 2, 0, 0, 2, 0, 1, 1, 3, 1, 3, 2, 0, 3, 1, 0, 1, 0, 1, 3, 3, 0, 2, 1, 1, 0, 2, 2, 5, 1, 1, 1, 1, 1, 0, 1, 3, 4, 3, 2, 0, 1, 0, 1, 1, 1, 5, 1, 1, 5, 0, 0, 2, 3, 1, 2, 4, 2, 4, 1, 0, 3, 0, 1, 1, 0, 1, 1, 1, 1, 1, 0, 0, 0, 2, 0, 0, 3, 1, 1, 3, 1, 1, 1, 4, 0, 2, 0, 3, 0, 1, 1, 0, 0, 0, 0, 1, 3, 1, 1, 0, 0, 3, 3, 0, 1, 4, 0, 4, 1, 0, 3, 1, 1, 4, 1, 0, 0, 0, 1, 1, 0, 0, 4, 0, 1, 2, 0, 0, 0, 1, 4, 4, 0, 3, 3, 1, 1, 0, 4, 1, 3, 4, 3, 0, 1, 0, 1, 0, 3, 0, 1, 1, 1, 3, 0, 5, 0, 2, 1, 1, 4, 0, 2, 1, 1, 0, 2, 1, 4, 5, 1, 1, 1, 4, 1, 3, 0, 1, 0, 0, 0, 1, 1, 4, 4, 0, 0, 3, 1, 0, 1, 0, 5, 1, 3, 2, 4, 0, 2, 3, 1, 2, 0, 1, 1, 0, 2, 2, 2, 3, 0, 4, 0, 1, 4, 1, 2, 0, 0, 1, 1, 2, 3, 3, 4, 1, 1, 1, 3, 0, 1, 4, 4, 0, 4, 3, 2, 1, 0, 0, 4, 1, 1, 0, 1, 1, 1, 1, 2, 3, 1, 1, 0, 4, 4, 4, 1, 1, 1, 3, 1, 1, 4, 0, 0, 0, 0, 3, 0, 4, 0, 5, 0, 4, 3, 3, 4, 0, 4, 2, 2, 1, 5, 0, 1, 3, 3, 0, 3, 4, 4, 2, 5, 0, 1, 1, 1, 0, 0, 0, 4, 0, 1, 1, 4, 1, 4, 2, 5, 1, 3, 1, 2, 4, 4, 0, 5, 1, 4, 0, 1, 0, 1, 0, 2, 5, 3, 1, 1, 0, 0, 1, 3, 1, 1, 1, 1, 4, 1, 3, 2, 4, 0, 0, 1, 3, 5, 1, 3, 0, 1, 2, 1, 3, 0, 1, 1, 0, 4, 0, 3, 0, 2, 0, 1, 5, 0, 1, 4, 1, 1, 1, 0, 4, 4, 0, 0, 3, 3, 1, 1, 1, 1, 0, 1, 1, 3, 1, 1, 3, 1, 3, 1, 0, 4, 0, 1, 3, 2, 4, 1, 3, 4, 4, 1, 0, 0, 3, 1, 3, 1, 1, 1, 4, 0, 0, 0, 4, 1, 3, 0, 4, 0, 1, 0, 3, 3, 3, 1, 0, 0, 1, 0, 4, 0, 0, 0, 0, 0, 5, 1, 1, 0, 2, 1, 1, 1, 3, 3, 1, 1, 0, 1, 2, 1, 2, 0, 3, 4, 1, 0, 0, 5, 2, 1, 1, 1, 4, 0, 1, 0, 1, 5, 1, 4, 1, 1, 5, 0, 0, 0, 3, 0, 1, 0, 2, 3, 1, 0, 1, 1, 2, 0, 0, 1, 4, 2, 1, 0, 2, 1, 1, 4, 1, 1, 1, 3, 2, 0, 1, 1, 1, 0, 1, 0, 5, 0, 1, 1, 1, 2, 4, 0, 1, 0, 1, 0, 2, 1, 2, 0, 4, 3, 5, 1, 0, 4, 0, 0, 1, 0, 1, 1, 0, 1, 3, 0, 4, 1, 1, 1, 5, 0, 1, 4, 1, 0, 0, 0, 1, 3, 0, 1, 4, 1, 1, 1, 1, 0, 0, 0, 2, 1, 4, 2, 0, 3, 0, 1, 1, 2, 0, 2, 1, 1, 1, 1, 0, 0, 4, 0, 0, 1, 0, 1, 2, 2, 2, 1, 2, 1, 1, 1, 1, 1, 2, 0, 1, 0, 1, 3, 0, 1, 1, 4, 4, 1, 1, 3, 0, 2, 4, 0, 1, 1, 3, 4, 4, 3, 4, 4, 3, 1, 4, 5, 4, 0, 1, 2, 1, 3, 4, 1, 1, 1, 1, 1, 4, 0, 0, 0, 4, 1, 5, 3, 1, 1, 4, 0, 1, 1, 3, 4, 4, 1, 0, 1, 1, 0, 4, 1, 0, 1, 0, 1, 0, 3, 1, 2, 0, 0, 4, 1, 0, 0, 2, 0, 4, 3, 0, 3, 1, 0, 3, 3, 1, 4, 2, 1, 0, 1, 0, 1, 1, 0, 0, 0, 4, 4, 2, 4, 1, 2, 3, 0, 0, 1, 3, 1, 0, 1, 1, 2, 3, 3, 2, 0, 3, 1, 3, 1, 4, 1, 1, 4, 0, 0, 1, 1, 1, 1, 1, 1, 0, 0, 0, 1, 5, 1, 2, 1, 3, 2, 0, 1, 1, 1, 1, 0, 0, 0, 2, 0, 3, 1, 0, 0, 1, 1, 0, 0, 2, 4, 1, 0, 0, 1, 0, 2, 3, 2, 3, 0, 1, 3, 3, 2, 4, 0, 0, 1, 1, 1, 0, 1, 0, 0, 1, 1, 0, 1, 1, 1, 1, 0, 0, 5, 1, 3, 4, 1, 1, 0, 1, 1, 1, 1, 5, 1, 5, 1, 4, 0, 1, 1, 5, 3, 4, 0, 3, 4, 1, 0, 4, 2, 1, 0, 0, 0, 0, 1, 0, 1, 4, 0, 0, 0, 1, 3, 1, 0, 1, 0, 1, 0, 0, 1, 0, 1, 1, 3, 0, 1, 1, 3, 3, 1, 2, 1, 3, 4, 0, 2, 0, 2, 0, 0, 0, 1, 0, 4, 1, 3, 0, 0, 0, 2, 1, 3, 1, 1, 4, 1, 0, 1, 0, 4, 2, 2, 1, 1, 0, 1, 1, 1, 0, 4, 1, 1, 0, 4, 1, 0, 3, 2, 3, 0, 5, 4, 3, 5, 5, 0, 3, 4, 1, 1, 1, 3, 4, 0, 1, 1, 2, 1, 3, 1, 4, 1, 0, 1, 1, 0, 1, 0, 3, 3, 1, 0, 1, 1, 0, 3, 3, 0, 1, 1, 2, 1, 1, 1, 2, 2, 1, 4, 0, 4, 0, 0, 3, 0, 1, 3, 4, 3, 3, 3, 2, 1, 0, 0, 0, 4, 1, 1, 3, 0, 3, 1, 3, 1, 1, 3, 1, 0, 1, 4, 1, 2, 2, 0, 0, 4, 3, 1, 3, 1, 1, 3, 0, 1, 1, 5, 4, 1, 2, 2, 0, 0, 0, 0, 3, 0, 0, 1, 4, 2, 3, 3, 4, 1, 4, 0, 0, 3, 0, 1, 1, 0, 4, 3, 0, 3, 0, 1, 0, 1, 4, 0, 0, 1, 0, 0, 1, 1, 1, 1, 0, 4, 0, 2, 1, 1, 1, 1, 0, 0, 1, 0, 1, 1, 3, 1, 1, 1, 1, 4, 1, 0, 1, 0, 0, 1, 1, 4, 0, 4, 0, 0, 0, 0, 3, 1, 4, 1, 1, 4, 1, 0, 0, 1, 3, 0, 1, 4, 0, 1, 1, 4, 3, 1, 3, 0, 3, 2, 0, 1, 3, 0, 0, 1, 1, 1, 1, 0, 4, 0, 4, 1, 3, 3, 1, 0, 1, 1, 3, 0, 0, 1, 0, 2, 4, 4, 1, 2, 1, 1, 4, 0, 0, 4, 2, 0, 1, 1, 4, 2, 4, 0, 1, 0, 2, 4, 0, 1, 1, 0, 0, 2, 1, 1, 1, 4, 0, 4, 0, 0, 4, 4, 2, 0, 5, 0, 1, 4, 2, 2, 1, 2, 4, 0, 3, 1, 0, 0, 2, 1, 0, 0, 1, 2, 0, 3, 0, 4, 0, 0, 1, 1, 1, 1, 4, 1, 0, 0, 4, 1, 4, 0, 3, 0, 1, 0, 0, 1, 0, 1, 0, 1, 1, 1, 1, 4, 0, 3, 1, 4, 1, 1, 0, 0, 0, 0, 4, 3, 1, 0, 1, 4, 3, 0, 3, 0, 0, 1, 0, 2, 0, 4, 1, 1, 1, 1, 1, 3, 0, 0, 3, 0, 0, 1, 3, 3, 1, 1, 4, 2, 3, 0, 0, 4, 0, 1, 4, 5, 0, 4, 0, 2, 4, 0, 0, 0, 1, 0, 2, 4, 3, 3, 1, 1, 1, 1, 0, 0, 1, 1, 3, 1, 3, 1, 0, 1, 1, 3, 0, 0, 1, 0, 1, 2, 3, 1, 3, 1, 3, 0, 0, 2, 0, 3, 1, 2, 1, 3, 0, 1, 0, 3, 3, 0, 1, 4, 3, 2, 0, 3, 0, 4, 1, 0, 0, 3, 3, 4, 5, 4, 0, 1, 1, 2, 1, 2, 1, 0, 2, 1, 1, 1, 0, 1, 0, 1, 3, 1, 2, 1, 0, 0, 0, 3, 4, 2, 1, 3, 0, 0, 1, 4, 1, 4, 2, 2, 3, 3, 0, 4, 0, 0, 5, 2, 1, 1, 2, 0, 1, 1, 4, 0, 3, 3, 0, 2, 4, 4, 3, 3, 1, 0, 0, 1, 1, 4, 0, 1, 2, 4, 3, 0, 1, 3, 5, 4, 1, 1, 2, 4, 0, 1, 3, 4, 3, 0, 0, 0, 3, 0, 4, 1, 3, 3, 0, 4, 1, 3, 4, 0, 1, 4, 1, 2, 3, 4, 4, 4, 4, 1, 3, 3, 0, 1, 0, 1, 0, 0, 1, 0, 4, 4, 1, 0, 1, 0, 1, 4, 3, 0, 1, 3, 1, 1, 0, 1, 1, 3, 3, 1, 1, 1, 0, 1, 1, 1, 3, 3, 1, 2, 1, 2, 1, 1, 1, 0, 1, 0, 5, 0, 3, 3, 3, 4, 4, 1, 4, 4, 1, 3, 1, 1, 1, 2, 1, 4, 0, 0, 5, 0, 0, 3, 1, 2, 4, 1, 3, 1, 5, 3, 4, 0, 1, 0, 1, 0, 2, 4, 0, 0, 5, 1, 3, 3, 0, 5, 3, 1, 4, 0, 4, 1, 1, 4, 0, 1, 1, 1, 4, 0, 2, 4, 2, 0, 3, 2, 0, 1, 1, 1, 4, 0, 3, 4, 2, 1, 2, 3, 0, 1, 1, 2, 0, 1, 0, 1, 0, 0, 4, 3, 1, 0, 1, 0, 1, 1, 0, 5, 1, 1, 3, 1, 1, 4, 1, 0, 0, 4, 3, 0, 1, 0, 0, 1, 3, 0, 0, 4, 0, 1, 5, 0, 1, 0, 3, 3, 4, 1, 1, 4, 4, 2, 0, 2, 1, 0, 1, 1, 1, 3, 5, 1, 3, 3, 3, 1, 0, 4, 3, 1, 0, 0, 4, 1, 1, 3, 0, 1, 4, 1, 0, 0, 1, 1, 0, 0, 0, 5, 2, 5, 1, 1, 1, 1, 2, 1, 0, 4, 4, 0, 3, 1, 1, 4, 0, 0, 0, 4, 1, 2, 3, 0, 1, 1, 1, 0, 2, 0, 1, 1, 0, 1, 1, 0, 0, 1, 4, 0, 1, 1, 0, 1, 0, 0, 1, 2, 1, 0, 0, 0, 2, 1, 1, 1, 5, 1, 3, 1, 0, 1, 1, 4, 3, 1, 0, 1, 0, 0, 0, 1, 1, 0, 1, 5, 1, 0, 5, 4, 1, 1, 0, 0, 5, 0, 4, 4, 3, 5, 2, 5, 3, 1, 1, 1, 0, 1, 1, 0, 3, 0, 0, 0, 1, 4, 1, 1, 1, 0, 1, 0, 1, 0, 0, 4, 1, 1, 0, 1, 1, 3, 1, 1, 0, 1, 0, 4, 3, 1, 1, 3, 1, 0, 2, 3, 1, 0, 2, 4, 3, 1, 0, 0, 1, 1, 4, 0, 0, 2, 0, 3, 1, 0, 3, 0, 0, 1, 4, 5, 4, 1, 0, 1, 3, 5, 0, 3, 3, 4, 0, 0, 1, 0, 4, 0, 3, 0, 1, 3, 1, 2, 3, 4, 2, 2, 0, 0, 3, 1, 2, 0, 1, 0, 0, 4, 4, 4, 0, 2, 1, 2, 0, 4, 1, 4, 1, 1, 3, 1, 4, 1, 1, 0, 3, 0, 1, 3, 4, 5, 1, 0, 4, 0, 1, 1, 3, 0, 2, 4, 3, 0, 0, 2, 0, 2, 1, 1, 0, 0, 4, 1, 1, 1, 1, 1, 0, 1, 1, 2, 3, 1, 4, 4, 2, 4, 0, 1, 0, 0, 1, 3, 1, 1, 1, 0, 0, 2, 0, 0, 0, 4, 3, 3, 3, 0, 0, 2, 3, 4, 1, 1, 2, 1, 4, 0, 3, 2, 1, 1, 5, 0, 1, 0, 0, 0, 0, 1, 1, 0, 2, 0, 0, 4, 1, 0, 1, 1, 0, 4, 4, 1, 1, 1, 1, 3, 0, 0, 4, 4, 0, 0, 3, 1, 1, 0, 1, 4, 4, 0, 3, 1, 1, 4, 1, 1, 3, 0, 3, 4, 0, 5, 1, 0, 5, 0, 3, 1, 0, 4, 4, 4, 1, 3, 2, 3, 3, 3, 1, 3, 3, 1, 3, 4, 1, 0, 2, 0, 3, 4, 0, 1, 1, 3, 1, 1, 1, 3, 0, 0, 0, 1, 0, 2, 0, 1, 4, 1, 3, 0, 3, 4, 0, 3, 1, 3, 0, 1, 4, 0, 0, 4, 1, 4, 4, 4, 0, 1, 5, 1, 1, 0, 1, 2, 4, 1, 4, 1, 2, 0, 0, 3, 2, 1, 0, 2, 3, 1, 3, 0, 4, 0, 5, 5, 1, 2, 3, 4, 1, 0, 0, 1, 0, 0, 1, 1, 2, 0, 4, 2, 3, 1, 1, 0, 1, 1, 1, 5, 1, 4, 2, 1, 4, 0, 4, 2, 1, 4, 0, 4, 0, 1, 0, 0, 0, 3, 1, 1, 1, 2, 4, 0, 3, 3, 0, 4, 4, 2, 4, 0, 4, 3, 1, 3, 0, 3, 1, 3, 0, 3, 0, 0, 1, 1, 3, 4, 0, 3, 0, 2, 0, 0, 0, 3, 2, 0, 1, 3, 2, 1, 0, 3, 0, 4, 2, 0, 0, 3, 2, 1, 5, 4, 3, 0, 0, 4, 4, 0, 4, 0, 3, 4, 3, 0, 1, 5, 4, 2, 0, 3, 0, 1, 2, 0, 3, 4, 2, 1, 1, 1, 1, 1, 3, 2, 4, 1, 1, 1, 3, 0, 0, 0, 1, 1, 0, 1, 4, 0, 0, 0, 0, 4, 4, 0, 1, 3, 1, 5, 0, 0, 0, 0, 1, 3, 2, 0, 1, 0, 0, 1, 1, 0, 0, 0, 3, 5, 0, 3, 1, 2, 2, 3, 2, 4, 1, 4, 1, 2, 1, 1, 4, 4, 3, 1, 3, 4, 2, 4, 0, 3, 4, 4, 1, 1, 0, 0, 2, 0, 0, 1, 0, 0, 4, 0, 1, 4, 1, 1, 0, 0, 3, 4, 0, 5, 5, 5, 0, 0, 1, 0, 3, 0, 0, 1, 0, 1, 0, 0, 3, 1, 3, 1, 5, 3, 0, 5, 4, 3, 0, 1, 0, 2, 1, 0, 0, 1, 1, 5, 1, 1, 1, 1, 1, 1, 3, 0, 4, 3, 4, 0, 1, 5, 1, 3, 4, 0, 2, 1, 0, 1, 1, 1, 0, 1, 3, 3, 1, 1, 0, 0, 0, 1, 1, 0, 0, 3, 1, 1, 0, 0, 3, 4, 1, 0, 2, 1, 0, 0, 0, 0, 3, 0, 1, 5, 2, 1, 5, 2, 1, 1, 1, 1, 1, 3, 1, 1, 3, 2, 1, 5, 3, 3, 0, 4, 4, 1, 1, 0, 0, 1, 3, 1, 0, 1, 0, 1, 1, 1, 0, 2, 1, 0, 2, 3, 2, 1, 1, 0, 4, 1, 4, 0, 1, 1, 2, 3, 3, 3, 2, 3, 3, 4, 1, 1, 0, 0, 0, 1, 3, 5, 1, 0, 0, 1, 1, 2, 3, 1, 1, 4, 1, 3, 4, 3, 0, 1, 0, 1, 0, 1, 0, 0, 3, 4, 1, 0, 2, 3, 0, 0, 1, 3, 4, 5, 2, 0, 5, 5, 2, 0, 1, 1, 3, 0, 0, 2, 3, 4, 4, 1, 4, 1, 0, 0, 1, 1, 0, 4, 2, 0, 1, 0, 5, 1, 1, 3, 1, 1, 3, 1, 0, 0, 3, 1, 4, 4, 0, 1, 0, 0, 0, 3, 1, 3, 3, 1, 1, 1, 1, 1, 1, 0, 1, 1, 1, 1, 1, 1, 4, 3, 2, 0, 0, 1, 0, 4, 1, 3, 4, 0, 1, 0, 2, 1, 1, 1, 1, 4, 1, 4, 3, 2, 3, 0, 4, 0, 0, 1, 1, 0, 0, 0, 1, 1, 1, 2, 3, 5, 0, 0, 0, 1, 5, 5, 2, 4, 2, 4, 3, 1, 1, 0, 1, 0, 0, 1, 0, 1, 2, 4, 0, 1, 1, 0, 1, 0, 3, 1, 0, 2, 0, 4, 1, 4, 2, 1, 3, 1, 1, 4, 1, 1, 1, 1, 1, 1, 0, 1, 4, 5, 0, 3, 0, 0, 1, 4, 4, 3, 1, 2, 4, 1, 0, 4, 2, 0, 1, 1, 0, 0, 1, 0, 1, 0, 1, 3, 2, 4, 1, 1, 5, 1, 0, 1, 1, 1, 4, 4, 1, 0, 0, 1, 1, 1, 2, 0, 2, 1, 1, 4, 0, 0, 2, 0, 0, 0, 1, 0, 0, 0, 2, 4, 1, 1, 4, 1, 0, 3, 0, 1, 1, 0, 3, 1, 0, 2, 1, 3, 1, 4, 1, 5, 0, 0, 3, 4, 0, 4, 0, 1, 4, 3, 1, 0, 1, 0, 1, 0, 3, 4, 0, 1, 3, 0, 3, 4, 1, 3, 1, 0, 4, 1, 1, 0, 0, 0, 2, 0, 0, 1, 4, 1, 0, 3, 1, 0, 2, 4, 1, 1, 0, 1, 0, 1, 2, 5, 0, 0, 1, 4, 0, 0, 0, 2, 1, 1, 4, 0, 4, 0, 1, 1, 5, 0, 1, 0, 3, 1, 3, 1, 3, 0, 0, 3, 1, 0, 0, 4, 3, 4, 0, 4, 1, 4, 1, 3, 1, 0, 5, 3, 0, 0, 4, 4, 1, 0, 0, 0, 1, 1, 5, 3, 3, 3, 1, 3, 0, 0, 1, 2, 1, 1, 0, 3, 1, 2, 1, 1, 1, 1, 1, 1, 4, 1, 2, 1, 1, 2, 1, 4, 0, 1, 2, 2, 1, 0, 1, 1, 1, 3, 0, 1, 4, 1, 0, 0, 1, 4, 3, 3, 1, 3, 1, 2, 1, 1, 1, 1, 0, 1, 1, 1, 1, 3, 1, 5, 0, 1, 0, 3, 3, 0, 0, 0, 2, 3, 3, 0, 0, 1, 0, 0, 1, 1, 4, 1, 1, 1, 4, 5, 0, 0, 1, 4, 4, 1, 1, 0, 4, 1, 0, 0, 0, 4, 4, 0, 5, 0, 1, 0, 4, 1, 1, 1, 4, 4, 1, 1, 3, 4, 0, 0, 1, 3, 4, 0, 0, 0, 0, 1, 2, 1, 1, 3, 2, 3, 1, 0, 5, 0, 3, 0, 4, 0, 3, 3, 0, 1, 0, 3, 2, 1, 0, 0, 0, 3, 1, 4, 1, 3, 4, 1, 4, 0, 4, 1, 1, 1, 0, 4, 0, 0, 0, 0, 1, 0, 1, 2, 2, 0, 1, 2, 2, 1, 3, 0, 1, 4, 0, 0, 1, 3, 4, 0, 5, 3, 0, 0, 1, 1, 0, 0, 1, 1, 0, 1, 5, 3, 3, 1, 1, 1, 1, 1, 0, 0, 0, 3, 3, 0, 1, 4, 0, 4, 0, 0, 1, 1, 1, 3, 1, 1, 1, 0, 1, 3, 4, 3, 4, 3, 0, 1, 3, 0, 3, 3, 1, 0, 1, 2, 1, 0, 0, 4, 1, 1, 0, 1, 5, 1, 1, 3, 0, 3, 1, 0, 1, 1, 2, 1, 3, 3, 0, 1, 0, 0, 1, 0, 2, 5, 1, 1, 0, 0, 0, 2, 0, 2, 0, 1, 0, 1, 3, 4, 1, 2, 3, 0, 3, 1, 5, 0, 1, 4, 0, 4, 1, 4, 1, 3, 4, 1, 3, 1, 1, 0, 0, 1, 0, 0, 2, 0, 4, 3, 3, 1, 3, 0, 1, 1, 1, 1, 0, 1, 1, 2, 0, 4, 1, 0, 1, 3, 3, 3, 1, 1, 0, 1, 3, 3, 0, 1, 1, 1, 3, 2, 0, 1, 0, 1, 0, 0, 4, 0, 4, 0, 0, 0, 1, 1, 1, 0, 0, 0, 2, 0, 4, 5, 0, 0, 1, 1, 1, 3, 3, 5, 2, 0, 1, 3, 0, 3, 3, 4, 4, 1, 1, 1, 1, 1, 0, 3, 2, 1, 0, 4, 1, 0, 1, 4, 3, 3, 1, 4, 0, 1, 2, 2, 1, 1, 3, 0, 4, 1, 4, 2, 0, 0, 0, 3, 5, 0, 3, 0, 0, 4, 5, 2, 1, 1, 0, 1, 3, 1, 2, 3, 1, 5, 4, 3, 1, 1, 2, 1, 2, 0, 1, 0, 1, 1, 1, 1, 1, 0, 3, 1, 4, 0, 1, 0, 0, 0, 1, 1, 4, 4, 1, 5, 3, 0, 0, 1, 1, 1, 3, 1, 1, 3, 4, 1, 1, 4, 4, 4, 1, 0, 1, 3, 1, 0, 0, 0, 0, 5, 1, 1, 0, 1, 0, 0, 5, 1, 4, 3, 3, 1, 0, 1, 1, 1, 0, 1, 3, 0, 1, 1, 0, 0, 0, 4, 1, 0, 3, 3, 0, 1, 1, 0, 1, 3, 2, 5, 0, 1, 0, 3, 1, 5, 2, 0, 3, 0, 1, 0, 2, 2, 1, 0, 0, 0, 1, 0, 3, 0, 4, 0, 1, 2, 0, 0, 0, 1, 4, 0, 1, 0, 0, 1, 1, 1, 0, 0, 0, 5, 4, 1, 0, 3, 0, 1, 4, 5, 2, 5, 1, 1, 1, 0, 1, 4, 0, 4, 0, 0, 4, 2, 0, 1, 0, 3, 1, 0, 2, 1, 1, 0, 1, 0, 0, 4, 2, 3, 0, 0, 3, 1, 0, 2, 1, 0, 4, 1, 4, 1, 0, 0, 3, 4, 1, 1, 0, 1, 0, 3, 1, 3, 3, 0, 1, 0, 1, 0, 0, 0, 1, 5, 1, 2, 5, 0, 1, 1, 0, 1, 1, 1, 3, 1, 0, 0, 1, 1, 1, 4, 0, 3, 0, 1, 0, 1, 2, 0, 0, 0, 3, 4, 3, 4, 1, 3, 1, 1, 3, 1, 0, 3, 1, 3, 3, 1, 1, 5, 3, 4, 3, 4, 1, 0, 1, 0, 0, 1, 4, 1, 0, 4, 0, 2, 0, 5, 1, 3, 1, 3, 0, 4, 1, 4, 3, 0, 0, 2, 1, 1, 0, 1, 0, 1, 1, 3, 0, 0, 4, 1, 0, 1, 3, 0, 1, 0, 0, 2, 3, 1, 4, 0, 3, 3, 5, 3, 0, 3, 3, 3, 3, 1, 1, 2, 1, 0, 0, 0, 1, 4, 4, 1, 1, 3, 0, 3, 4, 1, 3, 0, 0, 1, 3, 1, 3, 5, 2, 1, 3, 0, 1, 0, 1, 0, 0, 4, 3, 3, 0, 4, 0, 0, 0, 2, 1, 3, 1, 2, 3, 2, 1, 1, 2, 0, 0, 3, 1, 0, 4, 5, 0, 4, 0, 3, 0, 1, 4, 2, 1, 0, 1, 3, 0, 4, 1, 1, 1, 1, 2, 0, 1, 1, 1, 4, 1, 1, 0, 2, 0, 0, 3, 1, 0, 3, 1, 0, 1, 5, 1, 4, 0, 4, 1, 2, 3, 1, 2, 1, 1, 1, 3, 2, 0, 4, 0, 1, 0, 0, 1, 1, 3, 3, 1, 2, 1, 0, 0, 3, 3, 0, 3, 2, 0, 4, 1, 1, 1, 0, 1, 3, 3, 4, 1, 1, 4, 1, 5, 0, 3, 5, 4, 1, 1, 1, 0, 1, 1, 4, 5, 1, 0, 1, 2, 0, 0, 3, 1, 0, 0, 2, 4, 3, 1, 3, 0, 1, 0, 0, 0, 1, 2, 1, 0, 1, 1, 3, 4, 0, 2, 0, 0, 3, 0, 1, 2, 1, 2, 4, 1, 1, 0, 1, 1, 1, 2, 3, 1, 0, 1, 1, 1, 0, 1, 1, 4, 3, 0, 3, 2, 1, 1, 1, 0, 4, 1, 4, 0, 1, 1, 1, 0, 1, 1, 1, 0, 3, 1, 1, 0, 1, 3, 4, 1, 0, 1, 0, 3, 1, 0, 0, 4, 2, 0, 1, 2, 1, 4, 0, 3, 1, 4, 0, 0, 3, 3, 4, 4, 2, 3, 1, 0, 2, 1, 0, 5, 3, 1, 1, 4, 0, 1, 2, 0, 3, 1, 3, 4, 0, 3, 0, 1, 1, 0, 4, 1, 3, 4, 0, 4, 3, 1, 0, 1, 4, 1, 0, 0, 0, 1, 4, 0, 4, 1, 2, 1, 1, 1, 1, 1, 1, 4, 1, 1, 0, 4, 1, 0, 0, 1, 1, 0, 0, 1, 1, 0, 0, 2, 1, 5, 0, 0, 2, 0, 2, 2, 1, 2, 3, 4, 1, 1, 0, 4, 4, 4, 1, 1, 3, 1, 1, 3, 2, 4, 3, 0, 0, 4, 0, 0, 3, 3, 3, 1, 1, 1, 1, 1, 1, 2, 1, 3, 0, 1, 4, 0, 2, 2, 4, 1, 0, 5, 0, 4, 4, 3, 0, 0, 1, 1, 1, 1, 0, 0, 4, 1, 1, 1, 1, 0, 1, 1, 4, 0, 1, 1, 2, 1, 0, 0, 3, 1, 1, 0, 5, 1, 4, 5, 4, 1, 1, 4, 1, 3, 2, 0, 1, 0, 2, 0, 1, 3, 4, 0, 2, 2, 1, 0, 1, 1, 0, 0, 1, 0, 0, 4, 0, 1, 0, 1, 1, 4, 1, 1, 2, 1, 1, 1, 3, 2, 1, 1, 0, 1, 0, 0, 0, 4, 0, 1, 0, 4, 1, 4, 0, 0, 4, 1, 2, 1, 2, 1, 1, 4, 0, 1, 1, 2, 3, 1, 3, 1, 0, 0, 4, 1, 0, 5, 4, 1, 0, 1, 2, 1, 1, 1, 0, 5, 5, 4, 0, 1, 4, 0, 0, 3, 4, 5, 4, 0, 1, 1, 1, 1, 0, 0, 1, 4, 3, 3, 0, 0, 5, 0, 4, 3, 1, 4, 3, 4, 1, 0, 3, 2, 4, 1, 1, 0, 1, 0, 1, 1, 3, 2, 4, 1, 0, 1, 0, 0, 0, 0, 1, 3, 2, 3, 1, 1, 1, 0, 1, 0, 3, 1, 1, 0, 1, 1, 0, 3, 3, 1, 1, 0, 0, 1, 4, 2, 0, 1, 4, 1, 4, 2, 1, 1, 1, 1, 0, 1, 0, 1, 0, 4, 0, 1, 4, 1, 0, 1, 2, 2, 2, 1, 0, 1, 0, 0, 0, 3, 4, 5, 4, 1, 1, 3, 0, 1, 1, 1, 3, 3, 1, 0, 0, 0, 3, 4, 0, 1, 3, 1, 4, 3, 1, 3, 0, 1, 3, 0, 0, 4, 1, 1, 4, 0, 1, 1, 1, 0, 1, 4, 2, 3, 1, 1, 1, 0, 1, 0, 0, 3, 1, 3, 3, 1, 2, 0, 4, 4, 3, 4, 4, 0, 1, 0, 1, 0, 4, 2, 5, 2, 1, 0, 1, 4, 0, 1, 1, 0, 0, 3, 3, 4, 2, 1, 1, 1, 0, 0, 0, 0, 1, 2, 1, 4, 1, 0, 0, 4, 0, 0, 0, 3, 3, 1, 0, 0, 3, 0, 2, 4, 3, 0, 1, 1, 1, 2, 3, 3, 3, 4, 4, 1, 2, 4, 4, 5, 1, 1, 4, 0, 0, 0, 2, 5, 1, 2, 1, 1, 2, 1, 2, 5, 0, 1, 1, 1, 1, 3, 0, 1, 3, 2, 1, 4, 4, 0, 2, 0, 0, 0, 1, 0, 0, 2, 1, 0, 0, 1, 5, 3, 0, 0, 0, 1, 2, 4, 0, 0, 0, 1, 0, 0, 1, 0, 5, 2, 5, 0, 0, 2, 3, 0, 1, 3, 0, 1, 1, 1, 0, 3, 5, 1, 0, 4, 0, 1, 1, 0, 1, 0, 1, 0, 4, 5, 1, 5, 2, 1, 2, 1, 0, 4, 3, 1, 4, 0, 2, 0, 0, 0, 0, 1, 1, 0, 4, 3, 1, 0, 0, 5, 0, 5, 0, 4, 2, 2, 0, 4, 0, 0, 0, 1, 0, 1, 1, 0, 2, 1, 1, 3, 0, 1, 1, 0, 0, 1, 0, 0, 0, 0, 0, 3, 3, 3, 0, 2, 2, 0, 3, 0, 2, 0, 0, 1, 4, 2, 1, 4, 0, 1, 1, 0, 0, 3, 2, 1, 2, 1, 2, 1, 2, 1, 1, 0, 4, 5, 0, 1, 4, 0, 1, 4, 0, 0, 0, 3, 0, 1, 1, 2, 4, 2, 5, 0, 0, 1, 5, 3, 4, 1, 1, 0, 1, 0, 5, 4, 3, 1, 1, 4, 1, 0, 0, 1, 3, 0, 4, 4, 3, 3, 0, 3, 0, 0, 0, 1, 4, 2, 0, 0, 0, 4, 4, 0, 1, 1, 3, 0, 2, 1, 4, 0, 4, 2, 0, 0, 1, 0, 1, 1, 2, 1, 0, 1, 0, 4, 0, 1, 1, 3, 3, 3, 4, 3, 1, 5, 0, 0, 3, 1, 4, 3, 0, 1, 3, 0, 1, 4, 3, 4, 3, 1, 4, 3, 1, 3, 3, 3, 3, 4, 1, 1, 5, 0, 4, 1, 0, 0, 0, 1, 0, 0, 1, 3, 3, 1, 4, 2, 0, 1, 1, 3, 0, 1, 4, 4, 1, 0, 0, 3, 1, 2, 3, 0, 5, 1, 1, 0, 0, 0, 3, 0, 1, 0, 1, 3, 1, 1, 3, 1, 1, 0, 0, 1, 3, 1, 2, 4, 5, 0, 2, 5, 0, 3, 4, 4, 3, 3, 1, 3, 3, 2, 4, 2, 1, 3, 1, 3, 1, 0, 5, 4, 1, 1, 0, 0, 3, 1, 2, 0, 0, 0, 1, 4, 1, 4, 3, 2, 4, 3, 1, 0, 1, 2, 1, 4, 0, 1, 0, 1, 1, 1, 1, 1, 1, 1, 2, 0, 3, 1, 0, 1, 2, 0, 1, 0, 1, 0, 3, 4, 5, 0, 0, 0, 0, 1, 4, 0, 2, 1, 0, 0, 1, 3, 5, 3, 0, 2, 2, 2, 2, 4, 2, 1, 0, 5, 0, 0, 1, 0, 4, 1, 1, 0, 0, 1, 3, 0, 1, 1, 1, 4, 4, 4, 1, 1, 1, 4, 0, 0, 0, 1, 3, 2, 1, 3, 1, 0, 2, 1, 0, 2, 0, 2, 4, 3, 0, 0, 0, 0, 0, 0, 0, 3, 0, 1, 1, 0, 0, 4, 4, 1, 1, 3, 1, 2, 1, 1, 0, 0, 1, 1, 3, 0, 0, 0, 0, 0, 4, 0, 1, 0, 0, 4, 0, 4, 0, 1, 0, 0, 0, 4, 4, 3, 4, 4, 1, 3, 0, 3, 1, 3, 0, 1, 2, 1, 1, 0, 0, 1, 0, 0, 3, 0, 0, 3, 3, 1, 3, 0, 4, 3, 4, 0, 3, 1, 0, 4, 0, 0, 1, 5, 0, 4, 4, 5, 0, 1, 0, 0, 1, 1, 0, 4, 4, 4, 4, 2, 1, 5, 0, 1, 3, 0, 0, 0, 3, 0, 3, 0, 1, 1, 0, 1, 0, 0, 1, 1, 0, 1, 1, 1, 4, 0, 1, 1, 2, 1, 3, 1, 1, 3, 0, 1, 1, 3, 0, 3, 3, 5, 0, 0, 0, 0, 3, 1, 4, 0, 3, 3, 0, 0, 1, 0, 1, 1, 4, 1, 2, 0, 0, 3, 4, 3, 0, 1, 2, 3, 1, 0, 0, 1, 5, 4, 1, 1, 0, 4, 0, 1, 1, 2, 1, 0, 0, 5, 3, 0, 3, 0, 0, 0, 3, 0, 0, 1, 5, 0, 3, 5, 1, 1, 1, 2, 0, 0, 0, 0, 1, 0, 0, 0, 4, 0, 3, 0, 4, 2, 3, 1, 2, 0, 0, 4, 0, 0, 3, 0, 1, 4, 3, 3, 1, 1, 1, 1, 4, 0, 1, 5, 3, 1, 0, 0, 0, 2, 0, 1, 1, 1, 1, 1, 5, 1, 4, 4, 5, 1, 1, 3, 0, 1, 0, 3, 1, 3, 1, 3, 2, 3, 3, 0, 1, 4, 1, 1, 0, 2, 0, 0, 1, 1, 1, 1, 1, 1, 4, 3, 0, 1, 0, 1, 1, 0, 0, 1, 0, 1, 1, 3, 1, 0, 1, 1, 1, 3, 1, 1, 0, 4, 0, 1, 0, 3, 4, 0, 0, 0, 0, 2, 0, 1, 3, 0, 3, 0, 2, 0, 4, 4, 5, 1, 0, 4, 0, 2, 1, 0, 1, 3, 5, 0, 1, 1, 3, 2, 4, 1, 3, 0, 0, 2, 3, 0, 0, 1, 0, 1, 1, 0, 0, 3, 1, 1, 3, 0, 1, 1, 4, 0, 1, 0, 0, 0, 0, 1, 4, 0, 2, 2, 0, 4, 4, 1, 0, 1, 3, 0, 0, 0, 0, 4, 0, 0, 1, 0, 1, 1, 0, 2, 1, 0, 3, 3, 1, 1, 1, 5, 3, 4, 0, 0, 1, 0, 4, 0, 1, 4, 0, 3, 1, 1, 3, 1, 3, 3, 4, 1, 5, 4, 3, 3, 1, 1, 0, 0, 0, 1, 3, 5, 0, 3, 0, 1, 3, 1, 4, 1, 4, 1, 0, 0, 1, 1, 0, 1, 0, 0, 1, 0, 1, 0, 0, 3, 1, 3, 0, 1, 1, 4, 3, 3, 2, 1, 0, 1, 1, 3, 0, 3, 0, 0, 3, 3, 2, 4, 4, 1, 2, 0, 1, 1, 0, 1, 0, 0, 0, 0, 4, 0, 1, 3, 3, 4, 1, 2, 1, 1, 1, 1, 1, 0, 4, 1, 1, 2, 3, 1, 1, 0, 1, 0, 0, 4, 1, 1, 5, 1, 0, 1, 0, 1, 1, 0, 0, 1, 0, 3, 0, 0, 1, 1, 3, 1, 1, 1, 4, 4, 0, 0, 3, 0, 0, 3, 1, 4, 1, 3, 0, 2, 2, 0, 0, 0, 2, 1, 0, 1, 0, 3, 3, 1, 3, 1, 2, 1, 1, 2, 3, 4, 1, 3, 2, 2, 4, 1, 3, 1, 0, 2, 4, 1, 1, 0, 4, 1, 4, 1, 0, 2, 4, 1, 0, 0, 0, 0, 1, 1, 2, 0, 1, 4, 1, 1, 1, 1, 2, 0, 0, 3, 0, 3, 0, 1, 0, 0, 3, 1, 1, 1, 4, 1, 3, 1, 2, 4, 2, 4, 3, 1, 0, 0, 1, 2, 1, 2, 4, 2, 0, 4, 1, 3, 4, 4, 2, 0, 1, 4, 0, 1, 1, 0, 0, 3, 1, 0, 4, 0, 0, 4, 4, 0, 1, 1, 1, 0, 1, 3, 3, 1, 4, 1, 1, 1, 1, 2, 1, 1, 4, 3, 1, 1, 0, 0, 0, 1, 0, 3, 0, 1, 5, 2, 4, 5, 4, 3, 2, 1, 2, 3, 3, 0, 2, 0, 3, 0, 0, 0, 1, 0, 0, 1, 0, 1, 4, 0, 0, 3, 0, 4, 1, 0, 0, 0, 1, 1, 0, 3, 1, 1, 2, 3, 0, 3, 0, 1, 0, 4, 1, 1, 4, 3, 4, 0, 0, 2, 1, 4, 3, 0, 1, 0, 2, 2, 4, 3, 0, 1, 3, 2, 0, 3, 1, 5, 0, 1, 0, 0, 0, 1, 5, 3, 4, 3, 0, 0, 4, 0, 5, 1, 2, 0, 0, 0, 4, 2, 5, 1, 1, 0, 0, 0, 0, 1, 0, 4, 0, 3, 2, 1, 3, 0, 2, 1, 0, 4, 1, 1, 2, 0, 1, 4, 3, 0, 0, 1, 0, 0, 1, 2, 0, 3, 1, 3, 1, 0, 4, 3, 0, 4, 1, 1, 1, 1, 0, 1, 2, 3, 2, 0, 1, 4, 0, 1, 4, 0, 2, 0, 5, 5, 3, 4, 1, 1, 1, 0, 0, 1, 5, 1, 1, 1, 0, 1, 3, 4, 1, 0, 1, 0, 3, 0, 2, 2, 4, 4, 5, 0, 0, 1, 3, 3, 0, 4, 1, 0, 1, 3, 1, 5, 1, 5, 0, 1, 1, 0, 0, 1, 1, 0, 0, 1, 4, 0, 2, 3, 3, 0, 2, 2, 0, 5, 4, 0, 4, 1, 1, 3, 0, 4, 0, 1, 3, 1, 4, 3, 1, 4, 0, 2, 1, 1, 2, 1, 0, 1, 1, 3, 0, 1, 2, 1, 0, 1, 4, 4, 5, 3, 5, 4, 0, 0, 2, 0, 3, 3, 1, 3, 1, 2, 1, 1, 3, 1, 0, 0, 1, 1, 1, 3, 0, 0, 4, 0, 2, 0, 4, 1, 0, 1, 2, 1, 0, 0, 4, 4, 5, 3, 0, 4, 0, 4, 1, 3, 1, 1, 1, 4, 3, 1, 0, 1, 1, 2, 4, 0, 4, 0, 0, 1, 1, 1, 4, 0, 0, 0, 4, 3, 1, 0, 0, 5, 1, 2, 5, 1, 0, 1, 0, 3, 2, 1, 3, 3, 4, 1, 3, 0, 1, 1, 1, 1, 0, 0, 1, 1, 0, 1, 4, 4, 3, 3, 5, 0, 1, 1, 1, 1, 1, 0, 3, 1, 0, 1, 1, 1, 0, 1, 4, 0, 2, 2, 0, 0, 3, 1, 0, 1, 1, 1, 1, 4, 2, 0, 1, 0, 0, 4, 4, 0, 2, 3, 0, 0, 1, 0, 3, 0, 0, 0, 1, 5, 4, 0, 4, 1, 4, 3, 0, 2, 3, 4, 3, 0, 0, 1, 0, 1, 0, 1, 1, 3, 1, 0, 4, 4, 0, 1, 0, 0, 0, 2, 2, 1, 2, 0, 1, 1, 0, 4, 0, 4, 1, 0, 4, 0, 1, 0, 0, 4, 3, 4, 4, 1, 1, 1, 0, 1, 1, 0, 1, 1, 3, 2, 4, 4, 1, 1, 0, 0, 1, 1, 1, 4, 1, 1, 1, 1, 2, 1, 3, 0, 2, 1, 3, 0, 4, 0, 1, 4, 0, 3, 3, 3, 3, 2, 4, 0, 4, 0, 1, 1, 1, 1, 1, 3, 1, 0, 0, 1, 1, 4, 0, 4, 0, 1, 3, 0, 1, 3, 4, 2, 2, 1, 1, 3, 4, 3, 1, 1, 1, 0, 5, 0, 2, 1, 4, 1, 0, 0, 2, 3, 1, 2, 3, 1, 1, 0, 1, 0, 0, 3, 4, 4, 1, 0, 4, 0, 2, 1, 4, 2, 1, 3, 3, 3, 5, 1, 1, 1, 3, 1, 3, 0, 1, 1, 1, 3, 3, 1, 1, 4, 0, 2, 1, 4, 1, 0, 0, 0, 1, 5, 3, 1, 3, 1, 1, 3, 4, 1, 4, 2, 1, 5, 2, 4, 1, 1, 3, 4, 1, 0, 1, 0, 1, 0, 2, 4, 0, 0, 0, 1, 2, 0, 1, 1, 0, 4, 3, 0, 0, 0, 0, 1, 0, 1, 0, 3, 3, 1, 1, 4, 4, 3, 4, 1, 0, 0, 1, 5, 0, 2, 2, 2, 3, 1, 3, 4, 4, 0, 3, 0, 0, 1, 1, 0, 1, 4, 1, 3, 0, 4, 4, 3, 1, 2, 3, 2, 3, 1, 3, 1, 3, 0, 0, 4, 0, 0, 0, 1, 1, 2, 4, 0, 0, 0, 0, 0, 0, 1, 4, 1, 0, 4, 1, 1, 1, 0, 1, 1, 1, 1, 0, 0, 2, 0, 0, 0, 1, 0, 4, 5, 4, 4, 1, 1, 3, 1, 3, 1, 3, 0, 3, 1, 1, 3, 2, 1, 0, 3, 4, 2, 3, 1, 0, 3, 0, 0, 5, 2, 0, 1, 5, 4, 0, 3, 4, 4, 1, 1, 3, 4, 1, 1, 1, 1, 0, 5, 1, 0, 3, 1, 2, 0, 0, 1, 3, 0]\n"
          ]
        }
      ]
    },
    {
      "cell_type": "code",
      "metadata": {
        "id": "rpwzL88I7YSm",
        "colab": {
          "base_uri": "https://localhost:8080/",
          "height": 430
        },
        "outputId": "d8e42fc4-799e-4c08-c137-92ddf45db67c"
      },
      "source": [
        "plt.hist(labels, bins=11)\n",
        "plt.show()"
      ],
      "execution_count": null,
      "outputs": [
        {
          "output_type": "display_data",
          "data": {
            "text/plain": [
              "<Figure size 640x480 with 1 Axes>"
            ],
            "image/png": "[encoded data removed]"
          },
          "metadata": {}
        }
      ]
    },
    {
      "cell_type": "code",
      "metadata": {
        "id": "dNLF6rXL5ejN"
      },
      "source": [
        "classes = list(classes)\n",
        "names_to_ids = lambda labels: np.array([classes[x] for x in labels])"
      ],
      "execution_count": null,
      "outputs": []
    },
    {
      "cell_type": "code",
      "metadata": {
        "id": "_08InVyM5ejc",
        "colab": {
          "base_uri": "https://localhost:8080/"
        },
        "outputId": "69c35302-28b8-4d0b-e05c-55882d8e60d1"
      },
      "source": [
        "train_labels = names_to_ids(labels)\n",
        "print(train_labels[0])"
      ],
      "execution_count": null,
      "outputs": [
        {
          "output_type": "stream",
          "name": "stdout",
          "text": [
            "0\n"
          ]
        }
      ]
    },
    {
      "cell_type": "code",
      "metadata": {
        "id": "gpeDoA6gxIhE"
      },
      "source": [],
      "execution_count": null,
      "outputs": []
    },
    {
      "cell_type": "code",
      "metadata": {
        "id": "Jq0WJYsP5ejR"
      },
      "source": [],
      "execution_count": null,
      "outputs": []
    },
    {
      "cell_type": "code",
      "metadata": {
        "id": "v15KnrNC5ejW"
      },
      "source": [],
      "execution_count": null,
      "outputs": []
    },
    {
      "cell_type": "markdown",
      "metadata": {
        "id": "c-v0Mnh8xIhP"
      },
      "source": [
        "## Creating the Model\n",
        "\n",
        "1. Creating the model\n",
        "2. Compiling the model"
      ]
    },
    {
      "cell_type": "code",
      "metadata": {
        "id": "OpewXxPQ5eji"
      },
      "source": [
        "model = tf.keras.models.Sequential([\n",
        "    tf.keras.layers.Embedding(10000, 16),\n",
        "    tf.keras.layers.Bidirectional(tf.keras.layers.LSTM(20, return_sequences=True)),\n",
        "    tf.keras.layers.Bidirectional(tf.keras.layers.LSTM(20)),\n",
        "    tf.keras.layers.Dense(6, activation='softmax')\n",
        "])\n",
        "\n",
        "model.compile(\n",
        "    loss='sparse_categorical_crossentropy',\n",
        "    optimizer='adam',\n",
        "    metrics=['accuracy']\n",
        ")\n",
        "\n",
        "model.build(input_shape=(None, maxlen))"
      ],
      "execution_count": null,
      "outputs": []
    },
    {
      "cell_type": "code",
      "source": [
        "model.summary()"
      ],
      "metadata": {
        "colab": {
          "base_uri": "https://localhost:8080/",
          "height": 279
        },
        "id": "Je83rivkKFyy",
        "outputId": "21d694ce-2740-4e73-f5f6-3725d6c299e2"
      },
      "execution_count": null,
      "outputs": [
        {
          "output_type": "display_data",
          "data": {
            "text/plain": [
              "\u001b[1mModel: \"sequential_4\"\u001b[0m\n"
            ],
            "text/html": [
              "<pre style=\"white-space:pre;overflow-x:auto;line-height:normal;font-family:Menlo,'DejaVu Sans Mono',consolas,'Courier New',monospace\"><span style=\"font-weight: bold\">Model: \"sequential_4\"</span>\n",
              "</pre>\n"
            ]
          },
          "metadata": {}
        },
        {
          "output_type": "display_data",
          "data": {
            "text/plain": [
              "┏━━━━━━━━━━━━━━━━━━━━━━━━━━━━━━━━━━━━━━┳━━━━━━━━━━━━━━━━━━━━━━━━━━━━━┳━━━━━━━━━━━━━━━━━┓\n",
              "┃\u001b[1m \u001b[0m\u001b[1mLayer (type)                        \u001b[0m\u001b[1m \u001b[0m┃\u001b[1m \u001b[0m\u001b[1mOutput Shape               \u001b[0m\u001b[1m \u001b[0m┃\u001b[1m \u001b[0m\u001b[1m        Param #\u001b[0m\u001b[1m \u001b[0m┃\n",
              "┡━━━━━━━━━━━━━━━━━━━━━━━━━━━━━━━━━━━━━━╇━━━━━━━━━━━━━━━━━━━━━━━━━━━━━╇━━━━━━━━━━━━━━━━━┩\n",
              "│ embedding_4 (\u001b[38;5;33mEmbedding\u001b[0m)              │ (\u001b[38;5;45mNone\u001b[0m, \u001b[38;5;34m50\u001b[0m, \u001b[38;5;34m16\u001b[0m)              │         \u001b[38;5;34m160,000\u001b[0m │\n",
              "├──────────────────────────────────────┼─────────────────────────────┼─────────────────┤\n",
              "│ bidirectional_8 (\u001b[38;5;33mBidirectional\u001b[0m)      │ (\u001b[38;5;45mNone\u001b[0m, \u001b[38;5;34m50\u001b[0m, \u001b[38;5;34m40\u001b[0m)              │           \u001b[38;5;34m5,920\u001b[0m │\n",
              "├──────────────────────────────────────┼─────────────────────────────┼─────────────────┤\n",
              "│ bidirectional_9 (\u001b[38;5;33mBidirectional\u001b[0m)      │ (\u001b[38;5;45mNone\u001b[0m, \u001b[38;5;34m40\u001b[0m)                  │           \u001b[38;5;34m9,760\u001b[0m │\n",
              "├──────────────────────────────────────┼─────────────────────────────┼─────────────────┤\n",
              "│ dense_4 (\u001b[38;5;33mDense\u001b[0m)                      │ (\u001b[38;5;45mNone\u001b[0m, \u001b[38;5;34m6\u001b[0m)                   │             \u001b[38;5;34m246\u001b[0m │\n",
              "└──────────────────────────────────────┴─────────────────────────────┴─────────────────┘\n"
            ],
            "text/html": [
              "<pre style=\"white-space:pre;overflow-x:auto;line-height:normal;font-family:Menlo,'DejaVu Sans Mono',consolas,'Courier New',monospace\">┏━━━━━━━━━━━━━━━━━━━━━━━━━━━━━━━━━━━━━━┳━━━━━━━━━━━━━━━━━━━━━━━━━━━━━┳━━━━━━━━━━━━━━━━━┓\n",
              "┃<span style=\"font-weight: bold\"> Layer (type)                         </span>┃<span style=\"font-weight: bold\"> Output Shape                </span>┃<span style=\"font-weight: bold\">         Param # </span>┃\n",
              "┡━━━━━━━━━━━━━━━━━━━━━━━━━━━━━━━━━━━━━━╇━━━━━━━━━━━━━━━━━━━━━━━━━━━━━╇━━━━━━━━━━━━━━━━━┩\n",
              "│ embedding_4 (<span style=\"color: #0087ff; text-decoration-color: #0087ff\">Embedding</span>)              │ (<span style=\"color: #00d7ff; text-decoration-color: #00d7ff\">None</span>, <span style=\"color: #00af00; text-decoration-color: #00af00\">50</span>, <span style=\"color: #00af00; text-decoration-color: #00af00\">16</span>)              │         <span style=\"color: #00af00; text-decoration-color: #00af00\">160,000</span> │\n",
              "├──────────────────────────────────────┼─────────────────────────────┼─────────────────┤\n",
              "│ bidirectional_8 (<span style=\"color: #0087ff; text-decoration-color: #0087ff\">Bidirectional</span>)      │ (<span style=\"color: #00d7ff; text-decoration-color: #00d7ff\">None</span>, <span style=\"color: #00af00; text-decoration-color: #00af00\">50</span>, <span style=\"color: #00af00; text-decoration-color: #00af00\">40</span>)              │           <span style=\"color: #00af00; text-decoration-color: #00af00\">5,920</span> │\n",
              "├──────────────────────────────────────┼─────────────────────────────┼─────────────────┤\n",
              "│ bidirectional_9 (<span style=\"color: #0087ff; text-decoration-color: #0087ff\">Bidirectional</span>)      │ (<span style=\"color: #00d7ff; text-decoration-color: #00d7ff\">None</span>, <span style=\"color: #00af00; text-decoration-color: #00af00\">40</span>)                  │           <span style=\"color: #00af00; text-decoration-color: #00af00\">9,760</span> │\n",
              "├──────────────────────────────────────┼─────────────────────────────┼─────────────────┤\n",
              "│ dense_4 (<span style=\"color: #0087ff; text-decoration-color: #0087ff\">Dense</span>)                      │ (<span style=\"color: #00d7ff; text-decoration-color: #00d7ff\">None</span>, <span style=\"color: #00af00; text-decoration-color: #00af00\">6</span>)                   │             <span style=\"color: #00af00; text-decoration-color: #00af00\">246</span> │\n",
              "└──────────────────────────────────────┴─────────────────────────────┴─────────────────┘\n",
              "</pre>\n"
            ]
          },
          "metadata": {}
        },
        {
          "output_type": "display_data",
          "data": {
            "text/plain": [
              "\u001b[1m Total params: \u001b[0m\u001b[38;5;34m175,926\u001b[0m (687.21 KB)\n"
            ],
            "text/html": [
              "<pre style=\"white-space:pre;overflow-x:auto;line-height:normal;font-family:Menlo,'DejaVu Sans Mono',consolas,'Courier New',monospace\"><span style=\"font-weight: bold\"> Total params: </span><span style=\"color: #00af00; text-decoration-color: #00af00\">175,926</span> (687.21 KB)\n",
              "</pre>\n"
            ]
          },
          "metadata": {}
        },
        {
          "output_type": "display_data",
          "data": {
            "text/plain": [
              "\u001b[1m Trainable params: \u001b[0m\u001b[38;5;34m175,926\u001b[0m (687.21 KB)\n"
            ],
            "text/html": [
              "<pre style=\"white-space:pre;overflow-x:auto;line-height:normal;font-family:Menlo,'DejaVu Sans Mono',consolas,'Courier New',monospace\"><span style=\"font-weight: bold\"> Trainable params: </span><span style=\"color: #00af00; text-decoration-color: #00af00\">175,926</span> (687.21 KB)\n",
              "</pre>\n"
            ]
          },
          "metadata": {}
        },
        {
          "output_type": "display_data",
          "data": {
            "text/plain": [
              "\u001b[1m Non-trainable params: \u001b[0m\u001b[38;5;34m0\u001b[0m (0.00 B)\n"
            ],
            "text/html": [
              "<pre style=\"white-space:pre;overflow-x:auto;line-height:normal;font-family:Menlo,'DejaVu Sans Mono',consolas,'Courier New',monospace\"><span style=\"font-weight: bold\"> Non-trainable params: </span><span style=\"color: #00af00; text-decoration-color: #00af00\">0</span> (0.00 B)\n",
              "</pre>\n"
            ]
          },
          "metadata": {}
        }
      ]
    },
    {
      "cell_type": "markdown",
      "metadata": {
        "id": "1HST_CHjxIhR"
      },
      "source": [
        "## Training the Model\n",
        "\n",
        "1. Preparing a validation set\n",
        "2. Training the model"
      ]
    },
    {
      "cell_type": "code",
      "metadata": {
        "id": "Ff7F3hCK5ejm"
      },
      "source": [
        "val_tweets, val_labels = get_tweets(val)\n",
        "val_seq = get_sequences(tokenizer, val_tweets)\n",
        "val_labels = names_to_ids(val_labels)"
      ],
      "execution_count": null,
      "outputs": []
    },
    {
      "cell_type": "code",
      "metadata": {
        "id": "hlMKaZ3H5ejr",
        "colab": {
          "base_uri": "https://localhost:8080/"
        },
        "outputId": "1ee72d5f-748e-44ba-dcfc-eb43aea4cf9c"
      },
      "source": [
        "val_tweets[0], val_labels[0]"
      ],
      "execution_count": null,
      "outputs": [
        {
          "output_type": "execute_result",
          "data": {
            "text/plain": [
              "('im feeling quite sad and sorry for myself but ill snap out of it soon', 0)"
            ]
          },
          "metadata": {},
          "execution_count": 43
        }
      ]
    },
    {
      "cell_type": "code",
      "metadata": {
        "id": "bzBqnWQ-5ejw",
        "colab": {
          "base_uri": "https://localhost:8080/"
        },
        "outputId": "0959c795-7264-4cdb-9275-26d3a4914aba"
      },
      "source": [
        "h = model.fit(\n",
        "    padded_train_seq, train_labels,\n",
        "    validation_data=(val_seq, val_labels),\n",
        "    epochs=20,\n",
        "    callbacks=[\n",
        "        tf.keras.callbacks.EarlyStopping(monitor='val_accuracy', patience=2)\n",
        "    ]\n",
        ")"
      ],
      "execution_count": null,
      "outputs": [
        {
          "output_type": "stream",
          "name": "stdout",
          "text": [
            "Epoch 1/20\n",
            "\u001b[1m500/500\u001b[0m \u001b[32m━━━━━━━━━━━━━━━━━━━━\u001b[0m\u001b[37m\u001b[0m \u001b[1m12s\u001b[0m 14ms/step - accuracy: 0.3645 - loss: 1.5657 - val_accuracy: 0.6130 - val_loss: 1.0400\n",
            "Epoch 2/20\n",
            "\u001b[1m500/500\u001b[0m \u001b[32m━━━━━━━━━━━━━━━━━━━━\u001b[0m\u001b[37m\u001b[0m \u001b[1m7s\u001b[0m 11ms/step - accuracy: 0.6924 - loss: 0.8638 - val_accuracy: 0.7235 - val_loss: 0.7671\n",
            "Epoch 3/20\n",
            "\u001b[1m500/500\u001b[0m \u001b[32m━━━━━━━━━━━━━━━━━━━━\u001b[0m\u001b[37m\u001b[0m \u001b[1m6s\u001b[0m 13ms/step - accuracy: 0.8432 - loss: 0.4848 - val_accuracy: 0.8320 - val_loss: 0.5067\n",
            "Epoch 4/20\n",
            "\u001b[1m500/500\u001b[0m \u001b[32m━━━━━━━━━━━━━━━━━━━━\u001b[0m\u001b[37m\u001b[0m \u001b[1m6s\u001b[0m 11ms/step - accuracy: 0.9103 - loss: 0.2726 - val_accuracy: 0.8660 - val_loss: 0.4407\n",
            "Epoch 5/20\n",
            "\u001b[1m500/500\u001b[0m \u001b[32m━━━━━━━━━━━━━━━━━━━━\u001b[0m\u001b[37m\u001b[0m \u001b[1m7s\u001b[0m 14ms/step - accuracy: 0.9443 - loss: 0.1837 - val_accuracy: 0.8815 - val_loss: 0.3926\n",
            "Epoch 6/20\n",
            "\u001b[1m500/500\u001b[0m \u001b[32m━━━━━━━━━━━━━━━━━━━━\u001b[0m\u001b[37m\u001b[0m \u001b[1m10s\u001b[0m 13ms/step - accuracy: 0.9602 - loss: 0.1327 - val_accuracy: 0.8855 - val_loss: 0.3990\n",
            "Epoch 7/20\n",
            "\u001b[1m500/500\u001b[0m \u001b[32m━━━━━━━━━━━━━━━━━━━━\u001b[0m\u001b[37m\u001b[0m \u001b[1m16s\u001b[0m 25ms/step - accuracy: 0.9684 - loss: 0.0998 - val_accuracy: 0.8865 - val_loss: 0.4241\n",
            "Epoch 8/20\n",
            "\u001b[1m500/500\u001b[0m \u001b[32m━━━━━━━━━━━━━━━━━━━━\u001b[0m\u001b[37m\u001b[0m \u001b[1m6s\u001b[0m 11ms/step - accuracy: 0.9768 - loss: 0.0803 - val_accuracy: 0.8710 - val_loss: 0.5016\n",
            "Epoch 9/20\n",
            "\u001b[1m500/500\u001b[0m \u001b[32m━━━━━━━━━━━━━━━━━━━━\u001b[0m\u001b[37m\u001b[0m \u001b[1m6s\u001b[0m 13ms/step - accuracy: 0.9708 - loss: 0.0808 - val_accuracy: 0.8885 - val_loss: 0.4364\n",
            "Epoch 10/20\n",
            "\u001b[1m500/500\u001b[0m \u001b[32m━━━━━━━━━━━━━━━━━━━━\u001b[0m\u001b[37m\u001b[0m \u001b[1m10s\u001b[0m 13ms/step - accuracy: 0.9832 - loss: 0.0572 - val_accuracy: 0.8895 - val_loss: 0.4296\n",
            "Epoch 11/20\n",
            "\u001b[1m500/500\u001b[0m \u001b[32m━━━━━━━━━━━━━━━━━━━━\u001b[0m\u001b[37m\u001b[0m \u001b[1m10s\u001b[0m 11ms/step - accuracy: 0.9856 - loss: 0.0506 - val_accuracy: 0.8920 - val_loss: 0.4332\n",
            "Epoch 12/20\n",
            "\u001b[1m500/500\u001b[0m \u001b[32m━━━━━━━━━━━━━━━━━━━━\u001b[0m\u001b[37m\u001b[0m \u001b[1m7s\u001b[0m 13ms/step - accuracy: 0.9844 - loss: 0.0481 - val_accuracy: 0.8920 - val_loss: 0.4238\n",
            "Epoch 13/20\n",
            "\u001b[1m500/500\u001b[0m \u001b[32m━━━━━━━━━━━━━━━━━━━━\u001b[0m\u001b[37m\u001b[0m \u001b[1m7s\u001b[0m 14ms/step - accuracy: 0.9855 - loss: 0.0452 - val_accuracy: 0.8920 - val_loss: 0.4248\n"
          ]
        }
      ]
    },
    {
      "cell_type": "markdown",
      "metadata": {
        "id": "EdsJyMTLxIhX"
      },
      "source": [
        "## Evaluating the Model\n",
        "\n",
        "1. Visualizing training history\n",
        "2. Prepraring a test set\n",
        "3. A look at individual predictions on the test set\n",
        "4. A look at all predictions on the test set"
      ]
    },
    {
      "cell_type": "code",
      "metadata": {
        "id": "ENCfvXeLxIhX",
        "colab": {
          "base_uri": "https://localhost:8080/",
          "height": 312
        },
        "outputId": "719f0fa3-c885-415e-d3e2-f5faee35e15d"
      },
      "source": [
        "show_history(h)"
      ],
      "execution_count": null,
      "outputs": [
        {
          "output_type": "display_data",
          "data": {
            "text/plain": [
              "<Figure size 1600x600 with 2 Axes>"
            ],
            "image/png": "[encoded data removed]"
          },
          "metadata": {}
        }
      ]
    },
    {
      "cell_type": "code",
      "metadata": {
        "id": "kWuzoz8uxIha"
      },
      "source": [
        "test_tweets, test_labels = get_tweets(test)\n",
        "test_seq = get_sequences(tokenizer, test_tweets)\n",
        "test_labels = names_to_ids(test_labels)"
      ],
      "execution_count": null,
      "outputs": []
    },
    {
      "cell_type": "code",
      "metadata": {
        "id": "7vRVJ_2SxIhc",
        "colab": {
          "base_uri": "https://localhost:8080/"
        },
        "outputId": "6da9f43a-5b5c-4ca9-f3ea-727e33dc1cb4"
      },
      "source": [
        "_ = model.evaluate(test_seq, test_labels)"
      ],
      "execution_count": null,
      "outputs": [
        {
          "output_type": "stream",
          "name": "stdout",
          "text": [
            "\u001b[1m63/63\u001b[0m \u001b[32m━━━━━━━━━━━━━━━━━━━━\u001b[0m\u001b[37m\u001b[0m \u001b[1m0s\u001b[0m 6ms/step - accuracy: 0.8811 - loss: 0.4842\n"
          ]
        }
      ]
    },
    {
      "cell_type": "code",
      "metadata": {
        "id": "rh638vHG5ej6",
        "colab": {
          "base_uri": "https://localhost:8080/"
        },
        "outputId": "9e6d4dfe-8cae-40cd-8e3c-1698b9739995"
      },
      "source": [
        "i = random.randint(0, len(test_labels)-1)\n",
        "print('Sentence:', test_tweets[i])\n",
        "print('Emotion:', classes[test_labels[i]])"
      ],
      "execution_count": null,
      "outputs": [
        {
          "output_type": "stream",
          "name": "stdout",
          "text": [
            "Sentence: i really feel like we were successful in identifying some pretty scary early warning signs and sticking our foot in the door before it shut\n",
            "Emotion: 1\n"
          ]
        }
      ]
    },
    {
      "cell_type": "code",
      "metadata": {
        "id": "hHl5SVCFxIhh",
        "colab": {
          "base_uri": "https://localhost:8080/"
        },
        "outputId": "060bde93-2f61-46e7-88e2-46a929825b95"
      },
      "source": [
        "preds = model.predict(test_seq)"
      ],
      "execution_count": null,
      "outputs": [
        {
          "output_type": "stream",
          "name": "stdout",
          "text": [
            "\u001b[1m63/63\u001b[0m \u001b[32m━━━━━━━━━━━━━━━━━━━━\u001b[0m\u001b[37m\u001b[0m \u001b[1m1s\u001b[0m 6ms/step\n"
          ]
        }
      ]
    },
    {
      "cell_type": "code",
      "metadata": {
        "id": "NC8YQ0OexIhj",
        "colab": {
          "base_uri": "https://localhost:8080/",
          "height": 679
        },
        "outputId": "0001bd55-b927-4984-bafd-c3df510d09f6"
      },
      "source": [
        "show_confusion_matrix(test_labels, preds.argmax(axis=1), list(classes))\n",
        "print(DATA)"
      ],
      "execution_count": 66,
      "outputs": [
        {
          "output_type": "display_data",
          "data": {
            "text/plain": [
              "<Figure size 800x800 with 2 Axes>"
            ],
            "image/png": "[encoded data removed]"
          },
          "metadata": {}
        },
        {
          "output_type": "stream",
          "name": "stdout",
          "text": [
            "{0: 'sadness', 2: 'love', 1: 'joy', 3: 'anger', 4: 'fear', 5: 'surprise'}\n"
          ]
        }
      ]
    }
  ]
}